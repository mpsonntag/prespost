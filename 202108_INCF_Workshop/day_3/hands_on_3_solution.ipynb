{
 "cells": [
  {
   "cell_type": "markdown",
   "id": "503cb687",
   "metadata": {},
   "source": [
    "# Hands-on session 3: Elephant (Solution)\n",
    "\n",
    "These exercises build on concepts introduced in Tutorial 3\n",
    "\n",
    "In this exercise, we will use the SPADE method of Elephant to find recurring patterns in the spike data of trial 1.\n",
    "\n",
    "\n",
    "## Imports and Preparation"
   ]
  },
  {
   "cell_type": "code",
   "execution_count": 1,
   "id": "2fc1d993",
   "metadata": {
    "pycharm": {
     "name": "#%%\n"
    }
   },
   "outputs": [],
   "source": [
    "import quantities as pq\n",
    "import neo.utils\n",
    "import elephant\n",
    "import viziphant"
   ]
  },
  {
   "cell_type": "markdown",
   "id": "fb0d97b0",
   "metadata": {
    "pycharm": {
     "name": "#%% md\n"
    }
   },
   "source": [
    "On Linux you can download the compiled nix file via the command below. On other systems, please download the file manually from here and save it in the same folder as this notebook."
   ]
  },
  {
   "cell_type": "code",
   "execution_count": 2,
   "id": "619675c9",
   "metadata": {
    "pycharm": {
     "name": "#%%\n"
    }
   },
   "outputs": [],
   "source": [
    "!wget -O i140703-001.nix https://gin.g-node.org/sprenger/multielectrode_grasp/raw/dataset_nix/datasets_nix/i140703-001_cut_74sec.nix"
   ]
  },
  {
   "cell_type": "markdown",
   "id": "4d1cd9a4",
   "metadata": {},
   "source": [
    "## Data preparation\n",
    "\n",
    "\n",
    "1. Load the data `i140703-001.nix` file using the `neo.io.NixIO` into a neo Block."
   ]
  },
  {
   "cell_type": "code",
   "execution_count": 3,
   "id": "d2e41fc5",
   "metadata": {},
   "outputs": [],
   "source": [
    "with neo.io.NixIO('i140703-001.nix', 'ro') as io:\n",
    "    block = io.read_block()\n",
    "segment = block.segments[0]"
   ]
  },
  {
   "cell_type": "markdown",
   "id": "049f38c0",
   "metadata": {},
   "source": [
    "2. In close analogy to the beginning of tutorial 3, prepare a Neo `Block`, containing one `Segment` of SGHF data of the first correct trial. Name this `Segement` by the variable `trial`, as in tutorial 3.  In contrast to the lecture, we will cut data from the trial start `TS-ON` to reward administration indicated by event `RW-ON`. To this end, first find also the `RW-ON` events similar to how we found `TS-ON` in tutorial 3. Then, in the call to `neo.utils.add_epoch()`, supply these as a second event `event2=` *instead* of giving `t_pre=0` and `t_post=2*pq.s`. This will cut from event 1 to event 2, instead of a fixed amount of 2 s around event 1 (as in tutorial 3)."
   ]
  },
  {
   "cell_type": "code",
   "execution_count": 4,
   "id": "55270d93",
   "metadata": {
    "pycharm": {
     "name": "#%%\n"
    }
   },
   "outputs": [],
   "source": [
    "start_events = neo.utils.get_events(\n",
    "    segment,\n",
    "    trial_event_labels='TS-ON',\n",
    "    belongs_to_trialtype='SGHF',\n",
    "    performance_in_trial_str='correct_trial')\n",
    "\n",
    "## Additinally, get RW-ON events\n",
    "stop_events = neo.utils.get_events(\n",
    "    segment,\n",
    "    trial_event_labels='RW-ON',\n",
    "    belongs_to_trialtype='SGHF',\n",
    "    performance_in_trial_str='correct_trial')"
   ]
  },
  {
   "cell_type": "code",
   "execution_count": 5,
   "id": "3b971d2a",
   "metadata": {
    "pycharm": {
     "name": "#%%\n"
    }
   },
   "outputs": [],
   "source": [
    "# Create epochs between the events\n",
    "trial_epochs = neo.utils.add_epoch(\n",
    "    segment,\n",
    "    event1=start_events[0],     # The function returns a list, we need to retrieve the object which is the first (digital port events)\n",
    "    event2=stop_events[0],\n",
    "    array_annotations=start_events[0].array_annotations)"
   ]
  },
  {
   "cell_type": "code",
   "execution_count": 6,
   "id": "a02616b3",
   "metadata": {
    "pycharm": {
     "name": "#%%\n"
    }
   },
   "outputs": [],
   "source": [
    "# Create the new block\n",
    "trials = neo.Block()\n",
    "\n",
    "# Cut the recording segment into the trials, as defined by the epochs\n",
    "trials.segments = neo.utils.cut_segment_by_epoch(segment, trial_epochs, reset_time=True)"
   ]
  },
  {
   "cell_type": "code",
   "execution_count": 7,
   "id": "a115b315",
   "metadata": {
    "pycharm": {
     "name": "#%%\n"
    }
   },
   "outputs": [],
   "source": [
    "# Select first segment as the trial for analysis\n",
    "trial = trials.segments[0]"
   ]
  },
  {
   "cell_type": "markdown",
   "id": "7564a093",
   "metadata": {},
   "source": [
    "## SPADE analysis\n",
    "\n",
    "Note that patterns in this data are not easily to spot by eye in the rasterplot we developed in tutorial 3.\n",
    "We use SPADE as a technique that does that for us by finding all patterns and checking for each pattern if it\n",
    "occurs more often than expected given its complexity (number of neurons participating) and frequency.\n",
    "Before going directly to the analysis we briefly explain SPADE's most important parameters:\n",
    "\n",
    "- `binsize`: temporal precision of the method. The smaller the binsize is, the more precisely we expect each single pattern to repeat. This raises an important question: which is the temporal precision that are you interested in? It depends on the scientific question! We often use 5ms, based on a number of studies on the minimal neuronal temporal precision.\n",
    "- `winlen`: window length, or maximal length allowed to each pattern, expressed in bin units. SPADE will detect patterns with a temporal duration up to the window length. If winlen=1, then only synchronous patterns are detected. Are you interested in synchronous higher-order correlations? Are you interested in patterns with delays? Note: the higher the winlen parameter is, the more expensive (memory and time) the pattern search is!\n",
    "- `min_spikes` and `min_neu`: minimum number of spikes and minimum number of neurons allowed in a pattern. These parameters are important, too. Do you want to look for pattern with a particular size? Are you interested in patterns with multiple spikes coming from the same neuron?\n",
    "- `n_surr`: number of surrogates used for the statistical testing. If the number of surrogates is set to zero, then all patterns are retrieved by SPADE without further testing. If, instead, the number of surrogates is different from zero (typically we suggest to use a large number - the more the better!) then only the significant patterns are retrieved from the analysis. For simplicity, we will set this parameter to `n_surr=0` in the following.\n",
    "\n",
    "Next steps:\n",
    "3. As in tutorial 3, select only good quality neurons using the annotations (i.e., SUA units, more than 10000 spikes,...)"
   ]
  },
  {
   "cell_type": "code",
   "execution_count": 8,
   "id": "4d7cad57",
   "metadata": {
    "pycharm": {
     "name": "#%%\n"
    }
   },
   "outputs": [],
   "source": [
    "# Select only SUA spike trains with spikes and certain quality criteria\n",
    "spiketrains = [spiketrain for spiketrain in trial.spiketrains if\n",
    "                                   spiketrain.annotations['sua'] and\n",
    "                                   not spiketrain.annotations['electrode_reject_HFC'] and\n",
    "                                   not spiketrain.annotations['electrode_reject_IFC'] and\n",
    "                                   not spiketrain.annotations['electrode_reject_LFC'] and\n",
    "                                   not spiketrain.annotations['noise'] and\n",
    "                                   spiketrain.annotations['spike_count'] > 10000]"
   ]
  },
  {
   "cell_type": "markdown",
   "id": "10d32abe",
   "metadata": {
    "pycharm": {
     "name": "#%% md\n"
    }
   },
   "source": [
    "4. Run the SPADE analysis by executing the code given below:"
   ]
  },
  {
   "cell_type": "code",
   "execution_count": 9,
   "id": "23263b16",
   "metadata": {
    "pycharm": {
     "name": "#%%\n"
    }
   },
   "outputs": [],
   "source": [
    "# Fix parameters for SPADE\n",
    "binsize = 5 * pq.ms\n",
    "winlen = 1\n",
    "min_spikes = 2\n",
    "n_surr = 0\n",
    "min_neu = 2\n",
    "min_occ = 2"
   ]
  },
  {
   "cell_type": "code",
   "execution_count": 10,
   "id": "23f7d6b4",
   "metadata": {
    "pycharm": {
     "name": "#%%\n"
    }
   },
   "outputs": [
    {
     "name": "stderr",
     "output_type": "stream",
     "text": [
      "/home/denker/miniconda3/envs/2021_nix_workshop/lib/python3.8/site-packages/elephant/conversion.py:1168: UserWarning: Binning discarded 2 last spike(s) of the input spiketrain\n",
      "  warnings.warn(\"Binning discarded {} last spike(s) of the \"\n"
     ]
    },
    {
     "name": "stdout",
     "output_type": "stream",
     "text": [
      "Time for data mining: 0.1820077896118164\n"
     ]
    }
   ],
   "source": [
    "result = elephant.spade.spade(\n",
    "        spiketrains=spiketrains, binsize=binsize, winlen=winlen,\n",
    "        min_spikes=min_spikes, n_surr=n_surr, min_neu=min_neu, min_occ=min_occ)\n",
    "patterns = result['patterns']"
   ]
  },
  {
   "cell_type": "markdown",
   "id": "1c3d05a6",
   "metadata": {},
   "source": [
    "6. Let's look at the output in `patterns`. How many patterns were found? How does one pattern look as an output?"
   ]
  },
  {
   "cell_type": "code",
   "execution_count": 11,
   "id": "994e3df5",
   "metadata": {
    "pycharm": {
     "name": "#%%\n"
    }
   },
   "outputs": [
    {
     "data": {
      "text/plain": [
       "(5346,\n",
       " {'itemset': (22, 50),\n",
       "  'windows_ids': (127, 192),\n",
       "  'neurons': [22, 50],\n",
       "  'lags': array([0.]) * ms,\n",
       "  'times': array([635., 960.]) * ms,\n",
       "  'signature': (2, 2),\n",
       "  'pvalue': -1})"
      ]
     },
     "execution_count": 11,
     "metadata": {},
     "output_type": "execute_result"
    }
   ],
   "source": [
    "# Print the length of the list of patterns found, and the first pattern as an example\n",
    "len(patterns), patterns[0]"
   ]
  },
  {
   "cell_type": "markdown",
   "id": "11523576",
   "metadata": {},
   "source": [
    "7. Display five detected patterns in the data and their statistics by executing the Viziphant function calls given below"
   ]
  },
  {
   "cell_type": "code",
   "execution_count": 12,
   "id": "345f862e",
   "metadata": {
    "pycharm": {
     "name": "#%%\n"
    }
   },
   "outputs": [
    {
     "data": {
      "text/plain": [
       "<AxesSubplot:xlabel='Time (s)', ylabel='Neuron'>"
      ]
     },
     "execution_count": 12,
     "metadata": {},
     "output_type": "execute_result"
    },
    {
     "data": {
      "image/png": "[encoded data removed]",
      "text/plain": [
       "<Figure size 432x288 with 1 Axes>"
      ]
     },
     "metadata": {
      "needs_background": "light"
     },
     "output_type": "display_data"
    }
   ],
   "source": [
    "viziphant.spade.plot_patterns(spiketrains, patterns[:5], circle_sizes=(1, 50, 70))\n"
   ]
  },
  {
   "cell_type": "code",
   "execution_count": 13,
   "id": "cc8eedf4",
   "metadata": {
    "pycharm": {
     "name": "#%%\n"
    }
   },
   "outputs": [
    {
     "data": {
      "text/plain": [
       "(<Figure size 720x576 with 3 Axes>,\n",
       " array([<AxesSubplot:title={'center':'Patterns statistics'}, xlabel='Neuronal participation in patterns', ylabel='Count'>,\n",
       "        <AxesSubplot:xlabel='Pattern occurrences', ylabel='Count'>,\n",
       "        <AxesSubplot:xlabel='Pattern size', ylabel='Count'>], dtype=object))"
      ]
     },
     "execution_count": 13,
     "metadata": {},
     "output_type": "execute_result"
    },
    {
     "data": {
      "image/png": "[encoded data removed]",
      "text/plain": [
       "<Figure size 720x576 with 3 Axes>"
      ]
     },
     "metadata": {
      "needs_background": "light"
     },
     "output_type": "display_data"
    }
   ],
   "source": [
    "viziphant.spade.plot_patterns_statistics(patterns)"
   ]
  },
  {
   "cell_type": "code",
   "execution_count": null,
   "id": "15f335e8",
   "metadata": {},
   "outputs": [],
   "source": []
  }
 ],
 "metadata": {
  "kernelspec": {
   "display_name": "Python 3 (ipykernel)",
   "language": "python",
   "name": "python3"
  },
  "language_info": {
   "codemirror_mode": {
    "name": "ipython",
    "version": 3
   },
   "file_extension": ".py",
   "mimetype": "text/x-python",
   "name": "python",
   "nbconvert_exporter": "python",
   "pygments_lexer": "ipython3",
   "version": "3.8.0"
  }
 },
 "nbformat": 4,
 "nbformat_minor": 5
}
