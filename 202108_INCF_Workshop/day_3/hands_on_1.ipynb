{
 "cells": [
  {
   "cell_type": "markdown",
   "id": "a20f7712",
   "metadata": {},
   "source": [
    "# Hands-on session 1: Neo basics\n",
    "\n",
    "These exercises cover the basics introduced in Tutorial 1\n",
    "\n",
    "## Preparation: Download public ephys dataset\n",
    "On Linux you can download the publicly available dataset via the command below. On other systems, please download the files manually from [l101210-001.ns2](https://gin.g-node.org/NeuralEnsemble/ephy_testing_data/raw/master/blackrock/blackrock_2_1/l101210-001.ns2), [l101210-001.nev](https://gin.g-node.org/NeuralEnsemble/ephy_testing_data/raw/master/blackrock/blackrock_2_1/l101210-001.nev) and [l101210-001.ns5](https://gin.g-node.org/NeuralEnsemble/ephy_testing_data/raw/master/blackrock/blackrock_2_1/l101210-001.ns5) and save them in the same folder as this notebook.\n"
   ]
  },
  {
   "cell_type": "code",
   "execution_count": null,
   "id": "f914945d",
   "metadata": {},
   "outputs": [],
   "source": [
    "!wget -O l101210-001.ns2 https://gin.g-node.org/NeuralEnsemble/ephy_testing_data/raw/master/blackrock/blackrock_2_1/l101210-001.ns2\n",
    "!wget -O l101210-001.nev https://gin.g-node.org/NeuralEnsemble/ephy_testing_data/raw/master/blackrock/blackrock_2_1/l101210-001.nev\n",
    "!wget -O l101210-001.ns5 https://gin.g-node.org/NeuralEnsemble/ephy_testing_data/raw/master/blackrock/blackrock_2_1/l101210-001.ns5"
   ]
  },
  {
   "cell_type": "markdown",
   "id": "95c26202",
   "metadata": {},
   "source": [
    "\n",
    "## Exercise 1: Exploring an ephys dataset\n",
    "\n",
    "1. Load the dataset you just downloaded with Neo. Which IO seems suitable for this dataset?\n",
    "2. How many continuous recording parts (segments) does this dataset contain?\n",
    "3. How many channels were recorded in this dataset and at what sampling rates?\n",
    "4. How many spiketrains does this dataset contain?\n",
    "\n",
    "### Your solution"
   ]
  },
  {
   "cell_type": "code",
   "execution_count": null,
   "id": "4fa3decf",
   "metadata": {},
   "outputs": [],
   "source": []
  },
  {
   "cell_type": "markdown",
   "id": "31ba447a",
   "metadata": {},
   "source": [
    "## Exercise 2: Extracting data for visualization\n",
    "1. Visualize the channels 10 to 19 of the `AnalogSignal` with the highest temporal resolution. \n",
    "2. Add axis labels, title and legend based on metadata provided by the `AnalogSignal`. Check the `array_annotations` to label each channel.\n",
    "\n",
    "### Your solution"
   ]
  },
  {
   "cell_type": "code",
   "execution_count": null,
   "id": "feceba8f",
   "metadata": {},
   "outputs": [],
   "source": []
  },
  {
   "cell_type": "markdown",
   "id": "766cb710",
   "metadata": {},
   "source": [
    "## Exercise 3: Saving the dataset using NIX\n",
    "- Save the complete dataset in a new file named `l101210-001.nix`\n",
    "- What is the size of the resulting nix file?\n",
    "\n",
    "### Your solution"
   ]
  },
  {
   "cell_type": "code",
   "execution_count": null,
   "id": "cc5336bb",
   "metadata": {},
   "outputs": [],
   "source": []
  },
  {
   "cell_type": "code",
   "execution_count": null,
   "id": "f9c5d03b",
   "metadata": {},
   "outputs": [],
   "source": []
  },
  {
   "cell_type": "markdown",
   "id": "81aa0351",
   "metadata": {},
   "source": [
    "## Bonus Exercise\n",
    "Did you bring your own data? Check if your format is supported by Neo and load your data!"
   ]
  }
 ],
 "metadata": {
  "kernelspec": {
   "display_name": "Python 3 (ipykernel)",
   "language": "python",
   "name": "python3"
  },
  "language_info": {
   "codemirror_mode": {
    "name": "ipython",
    "version": 3
   },
   "file_extension": ".py",
   "mimetype": "text/x-python",
   "name": "python",
   "nbconvert_exporter": "python",
   "pygments_lexer": "ipython3",
   "version": "3.9.6"
  }
 },
 "nbformat": 4,
 "nbformat_minor": 5
}
