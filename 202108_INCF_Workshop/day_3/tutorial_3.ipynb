{
 "cells": [
  {
   "cell_type": "markdown",
   "id": "9ad12793",
   "metadata": {
    "slideshow": {
     "slide_type": "slide"
    }
   },
   "source": [
    "# Data processing and analysis - Building on top of Neo\n",
    "Based on tutorial material by Cristiano Koehler"
   ]
  },
  {
   "cell_type": "markdown",
   "id": "dfea7784",
   "metadata": {
    "slideshow": {
     "slide_type": "fragment"
    }
   },
   "source": [
    "Until now we have discussed the advantages gained by using Neo for standardized data storage via conversion to standardized formats and as data representation to develop custom visualizations and analysis. However, the most important aspect is that for classic anlysis it not necessary any more to implement these as other software packages are building on top of the Neo data representation!"
   ]
  },
  {
   "cell_type": "markdown",
   "id": "3babf2c3",
   "metadata": {
    "slideshow": {
     "slide_type": "fragment"
    }
   },
   "source": [
    "![neo_as_interface](./neo_material/neo_as_interface.svg)"
   ]
  },
  {
   "cell_type": "markdown",
   "id": "f41ea5b0",
   "metadata": {
    "slideshow": {
     "slide_type": "slide"
    }
   },
   "source": [
    "## Elephant - the Electrophysiology Analysis Toolkit\n",
    "![](elephant_material/elephant_logo_sidebar.png)\n"
   ]
  },
  {
   "cell_type": "markdown",
   "id": "989b705b",
   "metadata": {
    "slideshow": {
     "slide_type": "subslide"
    }
   },
   "source": [
    "\n",
    "provides analysis on different levels\n",
    "- data preprocessing\n",
    "    - filtering, z-score\n",
    "    - cross-correlation\n",
    "- classic analysis\n",
    "    - spike train statistics & correlation\n",
    "    - phase calculation\n",
    "    - spectral analysis\n",
    "    - kernel convolution\n",
    "    - spike-triggered LFP & phase\n",
    "- advanced:\n",
    "    - surrogate generation\n",
    "    - detection of synchronous spike patterns: CAD, Unitary Events, **SPADE**, ASSET, CuBIC\n",
    "    - detection of non-stationary processes\n",
    "    - Gaussian-Process Factor Analysis (GPFA)\n",
    "- ...\n",
    "\n",
    "see also [https://elephant.readthedocs.io/](https://elephant.readthedocs.io/)"
   ]
  },
  {
   "cell_type": "markdown",
   "id": "ae7cba1a",
   "metadata": {
    "slideshow": {
     "slide_type": "subslide"
    }
   },
   "source": [
    "### Elephant\n",
    "- works on `Neo`, `Numpy` or `Quantities` objects\n",
    "- optimal metadata usage for `Neo` objects\n",
    "- open source & community project\n",
    "- extension suggestions -> open an issue & PR on [github](https://github.com/NeuralEnsemble/elephant)"
   ]
  },
  {
   "cell_type": "markdown",
   "id": "b758a848",
   "metadata": {
    "slideshow": {
     "slide_type": "subslide"
    }
   },
   "source": [
    "## Viziphant\n",
    "![](./elephant_material/viziphant_logo_sidebar.png)\n",
    "\n",
    "Used to provide simple visualizations of analysis results\n",
    " \n",
    "see also [https://viziphant.readthedocs.io/](https://viziphant.readthedocs.io/)"
   ]
  },
  {
   "cell_type": "markdown",
   "id": "33b82088",
   "metadata": {
    "pycharm": {
     "name": "#%% md\n"
    },
    "slideshow": {
     "slide_type": "slide"
    }
   },
   "source": [
    "## Imports and preparation"
   ]
  },
  {
   "cell_type": "code",
   "execution_count": 1,
   "id": "798d8686",
   "metadata": {
    "pycharm": {
     "name": "#%%\n"
    },
    "slideshow": {
     "slide_type": "subslide"
    }
   },
   "outputs": [],
   "source": [
    "import quantities as pq\n",
    "import neo.utils\n",
    "import elephant\n",
    "import viziphant\n",
    "import nixio\n",
    "import matplotlib.pyplot as plt\n",
    "%matplotlib inline"
   ]
  },
  {
   "cell_type": "markdown",
   "id": "1337e17f",
   "metadata": {
    "pycharm": {
     "name": "#%% md\n"
    },
    "slideshow": {
     "slide_type": "subslide"
    }
   },
   "source": [
    "On Linux you can download the compiled nix file via the command below. On other systems, please download the file manually from here and save it in the same folder as this notebook."
   ]
  },
  {
   "cell_type": "code",
   "execution_count": 2,
   "id": "de3739e0",
   "metadata": {
    "pycharm": {
     "name": "#%%\n"
    },
    "slideshow": {
     "slide_type": "subslide"
    }
   },
   "outputs": [],
   "source": [
    "!wget -O i140703-001.nix https://gin.g-node.org/sprenger/multielectrode_grasp/raw/dataset_nix/datasets_nix/i140703-001_cut_74sec.nix"
   ]
  },
  {
   "cell_type": "markdown",
   "id": "35a52d48",
   "metadata": {
    "pycharm": {
     "name": "#%% md\n"
    },
    "slideshow": {
     "slide_type": "slide"
    }
   },
   "source": [
    "## Loading and preparing the data for the analysis\n",
    "\n",
    "We start by loading the data file and extracting the trials of interest.\n",
    "Our objective is to retain only the trials where the monkey performed correctly, for one of the four trial types in the experiment.\n",
    "\n",
    "Let's start by reading the dataset `i140703-001.nix` into a `neo.Block`. Then, we will select the proper `neo.Segment` object\n",
    "with the recording data."
   ]
  },
  {
   "cell_type": "code",
   "execution_count": 3,
   "id": "05567b46",
   "metadata": {
    "pycharm": {
     "name": "#%%\n"
    },
    "slideshow": {
     "slide_type": "subslide"
    }
   },
   "outputs": [],
   "source": [
    "with neo.io.NixIO('i140703-001.nix', 'ro') as io:\n",
    "    block = io.read_block()\n",
    "\n",
    "# Use first segment in the file\n",
    "segment = block.segments[0]"
   ]
  },
  {
   "cell_type": "markdown",
   "id": "ea87c0c8",
   "metadata": {
    "pycharm": {
     "name": "#%% md\n"
    },
    "slideshow": {
     "slide_type": "subslide"
    }
   },
   "source": [
    "The events in `segment.events[0]` correspond to inputs from the digital port of the acquisition system,\n",
    "with the important time points during the trial. They have labels stored as the `trial_event_labels` annotation.\n",
    "In previous sessions, you learned the details about the experiment.\n",
    "\n",
    "The start of the trial is identified by the `TS-ON` label. We will use it as a reference to cut our data from `segment`.\n",
    "We will cut a slice of total 2 s duration after `TS-ON`.\n",
    "\n",
    "We can also use the `performance_in_trial_str` annotation to select the trials where the monkey performed\n",
    "correctly, and `belongs_to_trialtype` to select one of the four trial types. Here, we choose `SGHF`, i.e., side-grips (SG)\n",
    "with a high force (HF).\n",
    "\n",
    "Instead of the manual approach to selecting these events as used in tutorial 2, we use the convenience function `get_events()`\n",
    "from the `neo.utils` module."
   ]
  },
  {
   "cell_type": "code",
   "execution_count": 4,
   "id": "5f4da019",
   "metadata": {
    "pycharm": {
     "name": "#%%\n"
    }
   },
   "outputs": [],
   "source": [
    "start_events = neo.utils.get_events(\n",
    "    segment,\n",
    "    trial_event_labels='TS-ON',\n",
    "    belongs_to_trialtype='SGHF',\n",
    "    performance_in_trial_str='correct_trial')"
   ]
  },
  {
   "cell_type": "markdown",
   "id": "39a7be32",
   "metadata": {
    "slideshow": {
     "slide_type": "subslide"
    }
   },
   "source": [
    "Having the `TS-ON` events as the start time points, we now define epochs with the desired duration of 2 s and store them as the variable\n",
    "`trial_epochs`. When fetching the events, we consider only the first item returned `start_events[0]` which corresponds\n",
    "to the events recorded through the digital port of the acquisition system."
   ]
  },
  {
   "cell_type": "code",
   "execution_count": 5,
   "id": "aa7ed590",
   "metadata": {
    "pycharm": {
     "name": "#%%\n"
    }
   },
   "outputs": [],
   "source": [
    "# Create epochs between the events\n",
    "trial_epochs = neo.utils.add_epoch(\n",
    "    segment,\n",
    "    event1=start_events[0],     # first Neo Event contains relevant data\n",
    "    pre=0*pq.ms,\n",
    "    post=2000*pq.ms,\n",
    "    array_annotations=start_events[0].array_annotations)"
   ]
  },
  {
   "cell_type": "markdown",
   "id": "d64c62c5",
   "metadata": {
    "slideshow": {
     "slide_type": "subslide"
    }
   },
   "source": [
    "As next step, let's cut our original segment of continuous data into separate segments, one for each epoch (trial).\n",
    "To this end, we create a new block called `trials` to store the new segments.\n",
    "\n",
    "Use the `reset_time` parameter to set the start times of each individual trial to zero, so that they are aligned to `TS-ON`."
   ]
  },
  {
   "cell_type": "code",
   "execution_count": 6,
   "id": "745a54f4",
   "metadata": {
    "pycharm": {
     "name": "#%%\n"
    }
   },
   "outputs": [],
   "source": [
    "# Create the new block\n",
    "trials = neo.Block()\n",
    "\n",
    "# Cut the recording segment into the trials, as defined by the epochs\n",
    "trials.segments = neo.utils.cut_segment_by_epoch(segment, trial_epochs, reset_time=True)"
   ]
  },
  {
   "cell_type": "markdown",
   "id": "5cbfe78e",
   "metadata": {
    "slideshow": {
     "slide_type": "slide"
    }
   },
   "source": [
    "## Selecting a single trial\n",
    "\n",
    "The first analyses will be for a single trial. Let's then select the first trial available as the variable `trial`.\n",
    "\n",
    "We will also use the events from the digital input port. Like before, they are the first `neo.Event` object in `trial.events`.\n",
    "Let's select the digital events of the trial in a variable called `trial_events` and inspect the annotations, to check if we\n",
    "got the correct data."
   ]
  },
  {
   "cell_type": "code",
   "execution_count": 7,
   "id": "1be3b0d3",
   "metadata": {
    "pycharm": {
     "name": "#%%\n"
    },
    "slideshow": {
     "slide_type": "subslide"
    }
   },
   "outputs": [
    {
     "name": "stdout",
     "output_type": "stream",
     "text": [
      "['TS-ON' 'WS-ON' 'CUE-ON' 'CUE-OFF']\n",
      "{'trial_id': array([1, 1, 1, 1]), 'trial_timestamp_id': array([39424, 39424, 39424, 39424]), 'performance_in_trial': array([255, 255, 255, 255]), 'performance_in_trial_str': array(['correct_trial', 'correct_trial', 'correct_trial', 'correct_trial'],\n",
      "      dtype='<U13'), 'belongs_to_trialtype': array(['SGHF', 'SGHF', 'SGHF', 'SGHF'], dtype='<U4'), 'trial_event_labels': array(['TS-ON', 'WS-ON', 'CUE-ON', 'CUE-OFF'], dtype='<U11'), 'trial_reject_HFC': array([False, False, False, False]), 'trial_reject_LFC': array([False, False, False, False]), 'trial_reject_IFC': array([ True,  True,  True,  True])}\n"
     ]
    }
   ],
   "source": [
    "# Select first segment as the trial for analysis\n",
    "trial = trials.segments[0]\n",
    "\n",
    "# Select first event of the trial\n",
    "trial_events = trial.events[0]\n",
    "\n",
    "# Inspect\n",
    "print(trial_events.labels)\n",
    "print(trial_events.array_annotations)"
   ]
  },
  {
   "cell_type": "markdown",
   "id": "cad8dab1",
   "metadata": {
    "slideshow": {
     "slide_type": "slide"
    }
   },
   "source": [
    "## Selecting spike trains with single-unit activity (SUA)\n",
    "\n",
    "An electrode may record spike trains originated from several neurons in the vicinity. After the process of spike sorting,\n",
    "spike trains that contain the activity from only a single neuron are obtained. These are referred to as single-unit activity (SUA)."
   ]
  },
  {
   "cell_type": "code",
   "execution_count": 8,
   "id": "76edc67d",
   "metadata": {
    "pycharm": {
     "name": "#%%\n"
    }
   },
   "outputs": [
    {
     "data": {
      "text/plain": [
       "{'nix_name': 'neo.spiketrain.22a41c20c0614a238d32dea2d46673ca',\n",
       " 'id': 'Unit 1000',\n",
       " 'channel_id': 1,\n",
       " 'unit_id': 0,\n",
       " 'unit_tag': 'unclassified',\n",
       " 'electrode_reject_HFC': False,\n",
       " 'electrode_reject_LFC': False,\n",
       " 'electrode_reject_IFC': False,\n",
       " 'connector_aligned_id': 93,\n",
       " 'coordinate_x': array(0.8) * mm,\n",
       " 'coordinate_y': array(3.6) * mm,\n",
       " 'sua': False,\n",
       " 'mua': False,\n",
       " 'noise': True}"
      ]
     },
     "execution_count": 8,
     "metadata": {},
     "output_type": "execute_result"
    }
   ],
   "source": [
    "trial.spiketrains[0].annotations"
   ]
  },
  {
   "cell_type": "markdown",
   "id": "011b2bf7",
   "metadata": {
    "pycharm": {
     "name": "#%% md\n"
    },
    "slideshow": {
     "slide_type": "subslide"
    }
   },
   "source": [
    "For our analysis, we will consider only the spike trains in the trial that are classified as SUA. This information has been recorded\n",
    "in the boolean annotation `sua` of each spike train\n",
    "\n",
    "We will also consider only the SUA spike trains that fire more than 10000 spikes in the complete recording session, as well as without any noise.\n",
    "We can do that by checking the relevant annotations. Let's store this in a final list called `sua_spiketrains_with_spikes`."
   ]
  },
  {
   "cell_type": "code",
   "execution_count": 9,
   "id": "3bd6bf2d",
   "metadata": {
    "pycharm": {
     "name": "#%%\n"
    }
   },
   "outputs": [],
   "source": [
    "# Select only SUA spike trains with spikes and certain quality criteria\n",
    "\n",
    "sua_spiketrains_with_spikes = [spiketrain for spiketrain in trial.spiketrains if\n",
    "                                   spiketrain.annotations['sua'] and                          # Is SUA\n",
    "                                   not spiketrain.annotations['electrode_reject_HFC'] and     # Bad quality is marked as True\n",
    "                                   not spiketrain.annotations['electrode_reject_IFC'] and\n",
    "                                   not spiketrain.annotations['electrode_reject_LFC'] and\n",
    "                                   not spiketrain.annotations['noise'] and                    # If noisy, is market as True\n",
    "                                   spiketrain.annotations['spike_count'] > 10000]             # Spike count"
   ]
  },
  {
   "cell_type": "markdown",
   "id": "57264808",
   "metadata": {
    "pycharm": {
     "name": "#%% md\n"
    },
    "slideshow": {
     "slide_type": "slide"
    }
   },
   "source": [
    "## Plotting a raster plot and firing rates across SUAs\n",
    "\n",
    "As a first step in the analysis of spike trains, it is good to have an overview of the spiking activity of all\n",
    "neurons along the duration of the trial, with respect to the events. We can do that by plotting the raster plot,\n",
    "population histogram and mean firing rate for the SUAs in the trial:\n",
    "\n",
    "* The raster plot shows the time points where each spike occurred, for the individual neurons.\n",
    "* The mean firing rate is the temporal average of the number of spikes of an individual neuron in the trial.\n",
    "* The population histogram shows the number of spikes that occurred during small intervals along the trial, considering all neurons.\n",
    "\n",
    "Viziphant provides the function `rasterplot_rates` to easily produce the plots.\n",
    "\n",
    "The immediate output of the plotting function does not have the events. We will add them manually using\n",
    "Viziphant's `add_event` function."
   ]
  },
  {
   "cell_type": "code",
   "execution_count": 10,
   "id": "4755fe82",
   "metadata": {
    "pycharm": {
     "name": "#%%\n"
    },
    "slideshow": {
     "slide_type": "subslide"
    }
   },
   "outputs": [
    {
     "data": {
      "image/png": "[encoded data removed]",
      "text/plain": [
       "<Figure size 720x360 with 3 Axes>"
      ]
     },
     "metadata": {
      "needs_background": "light"
     },
     "output_type": "display_data"
    }
   ],
   "source": [
    "# Create the raster plot of the SUA spike trains\n",
    "#   `axes` is the main raster plot.\n",
    "#   `axes_histx`: population histogram (above the raster plot)\n",
    "#   `axes_histy`: mean firing rates for each neuron (right)\n",
    "fig, axes = plt.subplots(1, 1, sharey=True, figsize=(10,5))\n",
    "axes, axes_histx, axes_histy = viziphant.rasterplot.rasterplot_rates(\n",
    "    sua_spiketrains_with_spikes, ax=fig.axes[0])\n",
    "# Label the mean firing rate histogram\n",
    "axes_histy.set_xlabel('Rate (Hz)')\n",
    "# Add vertical lines for all important trial events\n",
    "# (remove the last element in case there is overlap with the STOP event)\n",
    "viziphant.events.add_event([axes_histx, axes], trial_events, key='trial_event_labels')"
   ]
  },
  {
   "cell_type": "markdown",
   "id": "cfc4b817",
   "metadata": {
    "slideshow": {
     "slide_type": "slide"
    }
   },
   "source": [
    "## Visualize the instantaneous firing rate of one neuron in the trial\n",
    "\n",
    "The mean firing rate is just the temporal average of the number of spikes per time in the spiking activity of the neuron for the\n",
    "whole trial. We can have a time-varying estimate of the firing rate along the duration of the trial by computing the instantaneous rate.\n",
    "\n",
    "For this estimation, Elephant's `statistics` module provides the `instantaneous_rate` function. The function performs kernel\n",
    "convolution: each spike that ocurred during the trial is blurred with a kernel function. The bandwidth of the kernel function is\n",
    "controlled by the parameter `sigma`. Different types of kernel and bandwidths can be selected for more or less smooth estimates.\n",
    "\n",
    "Let's plot the instantaneous rate for one neuron that we are analyzing. Let's use a Gaussian kernel with two different `sigma`\n",
    "parameters: `20 ms` or `100 ms`. Use `.1 ms` as `sampling_period`."
   ]
  },
  {
   "cell_type": "code",
   "execution_count": 11,
   "id": "6f41f351",
   "metadata": {
    "pycharm": {
     "name": "#%%\n"
    },
    "slideshow": {
     "slide_type": "subslide"
    }
   },
   "outputs": [
    {
     "data": {
      "text/plain": [
       "[(9, 'ch14#1'), (64, 'ch85#1')]"
      ]
     },
     "execution_count": 11,
     "metadata": {},
     "output_type": "execute_result"
    }
   ],
   "source": [
    "[(idx, val.name) for idx, val in enumerate(\n",
    "    sua_spiketrains_with_spikes) if val.annotations['SNR'] > 10]"
   ]
  },
  {
   "cell_type": "code",
   "execution_count": 12,
   "id": "4d75849e",
   "metadata": {
    "pycharm": {
     "name": "#%%\n"
    }
   },
   "outputs": [
    {
     "name": "stdout",
     "output_type": "stream",
     "text": [
      "ch14#1\n"
     ]
    }
   ],
   "source": [
    "# Select one neuron from the SUA list\n",
    "neuron = sua_spiketrains_with_spikes[9]\n",
    "print(neuron.name)"
   ]
  },
  {
   "cell_type": "code",
   "execution_count": 13,
   "id": "719195e3",
   "metadata": {
    "pycharm": {
     "name": "#%%\n"
    },
    "slideshow": {
     "slide_type": "subslide"
    }
   },
   "outputs": [],
   "source": [
    "# Define kernels\n",
    "kernel_20 = elephant.kernels.GaussianKernel(sigma=20*pq.ms)\n",
    "kernel_100 = elephant.kernels.GaussianKernel(sigma=100*pq.ms)\n",
    "\n",
    "# Define the sampling period for the instantaneous rate function\n",
    "sampling_period = .1*pq.ms\n",
    "\n",
    "rates_20 = elephant.statistics.instantaneous_rate(\n",
    "    neuron, kernel=kernel_20, sampling_period=sampling_period)\n",
    "rates_100 = elephant.statistics.instantaneous_rate(\n",
    "    neuron, kernel=kernel_100, sampling_period=sampling_period)"
   ]
  },
  {
   "cell_type": "markdown",
   "id": "58976214",
   "metadata": {
    "slideshow": {
     "slide_type": "subslide"
    }
   },
   "source": [
    "Execute the code below to plot the spike train together with the two rate profiles that we calculated.\n",
    "The spike times will be added to the bottom of each plot. Note that the parameters of the rate computations\n",
    "are retained in the resulting rate variables, which in turn are Neo `AnalogSignal` objects."
   ]
  },
  {
   "cell_type": "code",
   "execution_count": 14,
   "id": "10f902c4",
   "metadata": {
    "pycharm": {
     "name": "#%%\n"
    }
   },
   "outputs": [
    {
     "data": {
      "image/png": "[encoded data removed]",
      "text/plain": [
       "<Figure size 720x360 with 2 Axes>"
      ]
     },
     "metadata": {},
     "output_type": "display_data"
    }
   ],
   "source": [
    "fig, axes = plt.subplots(2, 1, sharey=True, figsize=(10,5))\n",
    "for plot, rates in enumerate([rates_20, rates_100]):\n",
    "    axes[plot].plot(rates.times.rescale(pq.s), rates, linewidth=2)\n",
    "    axes[plot].eventplot(neuron.magnitude, color='black', linelengths=5)\n",
    "    axes[plot].set_ylabel(\"Firing rate (Hz)\")\n",
    "    axes[plot].set_title(f\"$\\sigma$ = {rates.annotations['kernel']['sigma']}\")\n",
    "viziphant.events.add_event(axes, trial_events, key='trial_event_labels')\n",
    "axes[-1].set_xlabel(\"Time (s)\");"
   ]
  },
  {
   "cell_type": "markdown",
   "id": "7a0b489f",
   "metadata": {
    "slideshow": {
     "slide_type": "subslide"
    }
   },
   "source": [
    "We can see that the smoothness of the rate curve is affected by the `sigma` parameter.\n",
    "Elephant can try to estimate the best kernel bandwidth for a Gaussian kernel by using `'auto'` as the value of the\n",
    "`kernel` parameter. Let's try this option."
   ]
  },
  {
   "cell_type": "code",
   "execution_count": 15,
   "id": "520c2a6b",
   "metadata": {
    "pycharm": {
     "name": "#%%\n"
    }
   },
   "outputs": [],
   "source": [
    "rates_auto = elephant.statistics.instantaneous_rate(\n",
    "    neuron, kernel='auto', sampling_period=sampling_period)"
   ]
  },
  {
   "cell_type": "markdown",
   "id": "58218597",
   "metadata": {
    "slideshow": {
     "slide_type": "subslide"
    }
   },
   "source": [
    "Execute the code below to plot the instantaneous firing rate obtained from the automatic kernel bandwidth."
   ]
  },
  {
   "cell_type": "code",
   "execution_count": 16,
   "id": "fc3257d6",
   "metadata": {
    "pycharm": {
     "name": "#%%\n"
    }
   },
   "outputs": [
    {
     "data": {
      "image/png": "[encoded data removed]",
      "text/plain": [
       "<Figure size 576x288 with 1 Axes>"
      ]
     },
     "metadata": {},
     "output_type": "display_data"
    }
   ],
   "source": [
    "fig, axes = plt.subplots(figsize=(8,4))\n",
    "axes.plot(rates_auto.times.rescale(pq.s), rates_auto)\n",
    "axes.eventplot(neuron.magnitude, color='black', linelengths=5)\n",
    "axes.set_ylabel(\"Firing rate [Hz]\")\n",
    "axes.set_xlabel(\"Time (s)\")\n",
    "axes.set_ylim([0,70])\n",
    "viziphant.events.add_event(axes, trial_events[:-1], key='trial_event_labels')"
   ]
  },
  {
   "cell_type": "markdown",
   "id": "90f51dfc",
   "metadata": {
    "slideshow": {
     "slide_type": "subslide"
    }
   },
   "source": [
    "Finally, let's compute and plot the instantaneous firing rates for all the SUAs in the trial.\n",
    "\n",
    "You can pass the list with all spike trains for the `instantaneous_rate` function, to generate a 2D-matrix.\n",
    "Use `kernel_100` as the `kernel` parameter and `.1 ms` as `sampling_period`."
   ]
  },
  {
   "cell_type": "code",
   "execution_count": 17,
   "id": "40554790",
   "metadata": {
    "pycharm": {
     "name": "#%%\n"
    }
   },
   "outputs": [],
   "source": [
    "all_rates = elephant.statistics.instantaneous_rate(\n",
    "    sua_spiketrains_with_spikes, kernel=kernel_100, sampling_period=sampling_period)"
   ]
  },
  {
   "cell_type": "markdown",
   "id": "f3a92069",
   "metadata": {
    "slideshow": {
     "slide_type": "subslide"
    }
   },
   "source": [
    "Now use the Viziphant function `plot_instantaneous_rates_colormesh` to plot the rates."
   ]
  },
  {
   "cell_type": "code",
   "execution_count": 18,
   "id": "214efc27",
   "metadata": {
    "pycharm": {
     "name": "#%%\n"
    }
   },
   "outputs": [
    {
     "data": {
      "image/png": "[encoded data removed]",
      "text/plain": [
       "<Figure size 720x360 with 2 Axes>"
      ]
     },
     "metadata": {},
     "output_type": "display_data"
    }
   ],
   "source": [
    "# Create the axes, setting the figure size\n",
    "fig, axes = plt.subplots(figsize=(10,5))\n",
    "# Plot the rates using the axes\n",
    "viziphant.statistics.plot_instantaneous_rates_colormesh(all_rates, axes=axes)\n",
    "# Add the events (need to rescale to the same units as the sampling period in `all_rates`)\n",
    "viziphant.events.add_event(\n",
    "    axes, trial_events[:-1].rescale(all_rates.sampling_period.units),\n",
    "    key='trial_event_labels')"
   ]
  },
  {
   "cell_type": "markdown",
   "id": "276c7ec7",
   "metadata": {
    "pycharm": {
     "name": "#%% md\n"
    },
    "slideshow": {
     "slide_type": "slide"
    }
   },
   "source": [
    "## Investigate the spike train correlations in the selected trial\n",
    "\n",
    "From the rasterplot that we generated above, it is difficult to assess if there are correlations between the spike trains.\n",
    "\n",
    "To investigate that, Elephant provides functions to calculate and plot the cross-correlation matrix. This matrix\n",
    "quantifies the similarity for each pair of spike trains in the trial. We start by binning the spike trains\n",
    "that we selected in the trial (SUAs with spiking activity in `sua_spiketrains_with_spikes`). Therefore, we are\n",
    "obtaining the number of spikes that occurred during small intervals along the trial, for each individual neuron.\n",
    "Let's use a bin size of 3 ms."
   ]
  },
  {
   "cell_type": "code",
   "execution_count": 19,
   "id": "ae94370d",
   "metadata": {
    "pycharm": {
     "name": "#%%\n"
    }
   },
   "outputs": [
    {
     "name": "stderr",
     "output_type": "stream",
     "text": [
      "/home/denker/miniconda3/envs/2021_nix_workshop/lib/python3.8/site-packages/elephant/utils.py:290: UserWarning: Correcting 1 rounding errors by shifting the affected spikes into the following bin. You can set tolerance=None to disable this behaviour.\n",
      "  warnings.warn(f'Correcting {num_corrections} rounding errors by '\n",
      "/home/denker/miniconda3/envs/2021_nix_workshop/lib/python3.8/site-packages/elephant/utils.py:290: UserWarning: Correcting 2 rounding errors by shifting the affected spikes into the following bin. You can set tolerance=None to disable this behaviour.\n",
      "  warnings.warn(f'Correcting {num_corrections} rounding errors by '\n",
      "/home/denker/miniconda3/envs/2021_nix_workshop/lib/python3.8/site-packages/elephant/conversion.py:1168: UserWarning: Binning discarded 2 last spike(s) of the input spiketrain\n",
      "  warnings.warn(\"Binning discarded {} last spike(s) of the \"\n"
     ]
    }
   ],
   "source": [
    "binned_spiketrains = elephant.conversion.BinnedSpikeTrain(\n",
    "    sua_spiketrains_with_spikes, binsize=3*pq.ms)"
   ]
  },
  {
   "cell_type": "markdown",
   "id": "a464e9cc",
   "metadata": {
    "slideshow": {
     "slide_type": "subslide"
    }
   },
   "source": [
    "If we inspect the spike times of one neuron, we can see that if the neuron fired in a particular bin,\n",
    "the `BinnedSpikeTrain` object will store the value 1."
   ]
  },
  {
   "cell_type": "code",
   "execution_count": 20,
   "id": "27de5c56",
   "metadata": {
    "pycharm": {
     "name": "#%%\n"
    }
   },
   "outputs": [
    {
     "name": "stdout",
     "output_type": "stream",
     "text": [
      "[0.06746667 0.0734     0.08793333 0.096      0.1015     0.1333\n",
      " 0.1863     0.2388     0.39636667 0.46973333 0.4999     0.68813333\n",
      " 0.73756667 0.77723333 1.25816667 1.46953333 1.69226667 1.75393333\n",
      " 1.76566667 1.84573333 1.97663333] s\n"
     ]
    }
   ],
   "source": [
    "print(sua_spiketrains_with_spikes[0])"
   ]
  },
  {
   "cell_type": "code",
   "execution_count": 21,
   "id": "cd83ed3f",
   "metadata": {
    "pycharm": {
     "name": "#%%\n"
    }
   },
   "outputs": [
    {
     "data": {
      "text/plain": [
       "array([ 22.48888889,  24.46666667,  29.31111111,  32.        ,\n",
       "        33.83333333,  44.43333333,  62.1       ,  79.6       ,\n",
       "       132.12222222, 156.57777778, 166.63333333, 229.37777778,\n",
       "       245.85555556, 259.07777778, 419.38888889, 489.84444444,\n",
       "       564.08888889, 584.64444444, 588.55555556, 615.24444444,\n",
       "       658.87777778]) * dimensionless"
      ]
     },
     "execution_count": 21,
     "metadata": {},
     "output_type": "execute_result"
    }
   ],
   "source": [
    "# Index of the 3 ms bin that the spike occurred\n",
    "sua_spiketrains_with_spikes[0].times / (0.003 * pq.s)"
   ]
  },
  {
   "cell_type": "code",
   "execution_count": 22,
   "id": "1c3847a8",
   "metadata": {
    "pycharm": {
     "name": "#%%\n"
    }
   },
   "outputs": [
    {
     "name": "stdout",
     "output_type": "stream",
     "text": [
      "[0 0 0 0 0 0 0 0 0 0 0 0 0 0 0 0 0 0 0 0 0 0 1 0 1 0 0 0 0 1 0 0 1 1 0 0 0\n",
      " 0 0 0 0 0 0 0 1 0 0 0 0 0]\n"
     ]
    }
   ],
   "source": [
    "print(binned_spiketrains.to_array()[0,0:50])"
   ]
  },
  {
   "cell_type": "markdown",
   "id": "d58f1ad8",
   "metadata": {
    "slideshow": {
     "slide_type": "subslide"
    }
   },
   "source": [
    "The binning above showed several warnings that happened due to the machine error precision of floating point computation. Since now we're aware of it, let's filter them out throughout the rest of the notebook."
   ]
  },
  {
   "cell_type": "code",
   "execution_count": 23,
   "id": "8d4b6d0d",
   "metadata": {
    "pycharm": {
     "name": "#%%\n"
    }
   },
   "outputs": [],
   "source": [
    "import warnings\n",
    "warnings.filterwarnings(\"ignore\")"
   ]
  },
  {
   "cell_type": "markdown",
   "id": "2c49d5f8",
   "metadata": {
    "slideshow": {
     "slide_type": "subslide"
    }
   },
   "source": [
    "Then we calculate the cross-correlation matrix of the binned spikes using the `correlation_coefficient`\n",
    "function from the `statistics` module."
   ]
  },
  {
   "cell_type": "code",
   "execution_count": 24,
   "id": "c39653af",
   "metadata": {
    "pycharm": {
     "name": "#%%\n"
    }
   },
   "outputs": [],
   "source": [
    "cross_corr_matrix = elephant.spike_train_correlation.correlation_coefficient(\n",
    "    binned_spiketrains)"
   ]
  },
  {
   "cell_type": "markdown",
   "id": "dae1287a",
   "metadata": {
    "slideshow": {
     "slide_type": "subslide"
    }
   },
   "source": [
    "We visualize the matrix using the `plot_corrcoef` function of Viziphant. To better visualize the\n",
    "coefficients, we will set `correlation_range` to `'auto'`, to use the color bar only in the range of the\n",
    "obtained coefficients. We will also not plot the values along the main diagonal, as those are equal to 1, by\n",
    "setting `remove_diagonal` to True."
   ]
  },
  {
   "cell_type": "code",
   "execution_count": 25,
   "id": "4053bad3",
   "metadata": {
    "pycharm": {
     "name": "#%%\n"
    },
    "slideshow": {
     "slide_type": "subslide"
    }
   },
   "outputs": [
    {
     "data": {
      "image/png": "[encoded data removed]",
      "text/plain": [
       "<Figure size 720x360 with 2 Axes>"
      ]
     },
     "metadata": {},
     "output_type": "display_data"
    }
   ],
   "source": [
    "# Create the axes, setting the figure size\n",
    "fig, axes = plt.subplots(figsize=(10,5))\n",
    "# Plot the correlation matrix\n",
    "viziphant.spike_train_correlation.plot_corrcoef(\n",
    "    cross_corr_matrix, axes=axes,correlation_range='auto',remove_diagonal=True)\n",
    "# Set labels and title\n",
    "axes.set_xlabel('Neuron')\n",
    "axes.set_ylabel('Neuron')\n",
    "axes.set_title(\"Correlation coefficient matrix\");"
   ]
  },
  {
   "cell_type": "markdown",
   "id": "8f280744",
   "metadata": {
    "pycharm": {
     "name": "#%% md\n"
    },
    "slideshow": {
     "slide_type": "slide"
    }
   },
   "source": [
    "## Save results to NIX\n",
    "\n",
    "Now that we generated several analysis results, we'd like to save them in a NIX file.\n",
    "\n",
    "Let's look at the rate estimates first. These are essentially time series that are represented as `AnalogSignal`\n",
    "objects. The advantage of using such an object instead of a `numpy` array is that it can capture information\n",
    "such as physical units or additional annotations indicating parameters of the analysis. As we've seen above,\n",
    "Elephant recorded such parameters automatically:"
   ]
  },
  {
   "cell_type": "code",
   "execution_count": 26,
   "id": "8452906b",
   "metadata": {
    "pycharm": {
     "name": "#%%\n"
    }
   },
   "outputs": [
    {
     "name": "stdout",
     "output_type": "stream",
     "text": [
      "Hz\n",
      "2.0 s\n",
      "{'t_stop': array(2.) * s, 'kernel': {'type': 'GaussianKernel', 'sigma': '100.0 ms', 'invert': False}}\n"
     ]
    }
   ],
   "source": [
    "print(rates_100.dimensionality)\n",
    "print(rates_100.t_stop)\n",
    "print(rates_100.annotations)"
   ]
  },
  {
   "cell_type": "markdown",
   "id": "900273f2",
   "metadata": {
    "pycharm": {
     "name": "#%% md\n"
    },
    "slideshow": {
     "slide_type": "subslide"
    }
   },
   "source": [
    "This way, we can save analysis results to disk with important information indicating how these were generated.\n",
    "We can save these results using the Neo NIX IO. To this end, we compile results into a Neo `Block`, and all\n",
    "rate results in particular into a `Segment`."
   ]
  },
  {
   "cell_type": "code",
   "execution_count": 27,
   "id": "4c912637",
   "metadata": {
    "pycharm": {
     "name": "#%%\n"
    }
   },
   "outputs": [],
   "source": [
    "results_block=neo.Block(name=\"Analysis\")\n",
    "results_segment=neo.Segment(name=\"Rate Analyses\")\n",
    "results_block.segments.append(results_segment)\n",
    "results_segment.analogsignals.append(rates_100)\n",
    "results_segment.analogsignals.append(rates_20)\n",
    "results_segment.analogsignals.append(rates_auto)\n",
    "\n",
    "with neo.io.NixIO('results.nix', 'ow') as io:\n",
    "    io.write(results_block)"
   ]
  },
  {
   "cell_type": "markdown",
   "id": "9784961b",
   "metadata": {
    "slideshow": {
     "slide_type": "subslide"
    }
   },
   "source": [
    "If we think about a collaborator who may want to build upon your results, maybe it would be good to also supply him/her with the data used to calculate these results. Luckily, these are available as a Neo `Block` in the variable `trials` which we created in the beginning of this tutorial. Saving this data to the same NIX file, we can combine analysis input and output in a single, compact file."
   ]
  },
  {
   "cell_type": "code",
   "execution_count": 28,
   "id": "6eb11db9",
   "metadata": {},
   "outputs": [],
   "source": [
    "with neo.io.NixIO('results.nix', 'rw') as io:\n",
    "    io.write(trials)"
   ]
  },
  {
   "cell_type": "markdown",
   "id": "fcc6568a",
   "metadata": {
    "pycharm": {
     "name": "#%% md\n"
    },
    "slideshow": {
     "slide_type": "subslide"
    }
   },
   "source": [
    "Some analysis results are represented in structures that do not fit Neo structures, for example, the correlation matrix\n",
    "we calculated above. While efforts to create fitting representations for such analysis results are underway, we can use\n",
    "NIX nevertheless to save these results into the same file as a separate NIX Block. This way, we end up with one single\n",
    "file containing all analysis results."
   ]
  },
  {
   "cell_type": "code",
   "execution_count": 29,
   "id": "36d59a83",
   "metadata": {
    "pycharm": {
     "name": "#%%\n"
    }
   },
   "outputs": [],
   "source": [
    "nixfile = nixio.File.open(\"results.nix\", nixio.FileMode.ReadWrite)\n",
    "nixblock = nixfile.create_block(\"correlation_results\", \"nix.session\")\n",
    "data_array = nixblock.create_data_array(\n",
    "    \"correlation_matrix\", \"nix.sampled.multichannel\", \n",
    "    data=cross_corr_matrix,\n",
    "    label=\"cross-correlation coefficient\", \n",
    "    unit=\"dimensionless\")\n",
    "data_array.append_set_dimension(\n",
    "    labels=[\"neuron %i\" % i for i in range(cross_corr_matrix.shape[0])])\n",
    "data_array.append_set_dimension(\n",
    "    labels=[\"neuron %i\" % i for i in range(cross_corr_matrix.shape[0])])\n",
    "nixfile.close()\n"
   ]
  },
  {
   "cell_type": "code",
   "execution_count": null,
   "id": "d0fddd06",
   "metadata": {
    "pycharm": {
     "name": "#%%\n"
    }
   },
   "outputs": [],
   "source": []
  }
 ],
 "metadata": {
  "celltoolbar": "Slideshow",
  "kernelspec": {
   "display_name": "Python 3 (ipykernel)",
   "language": "python",
   "name": "python3"
  },
  "language_info": {
   "codemirror_mode": {
    "name": "ipython",
    "version": 3
   },
   "file_extension": ".py",
   "mimetype": "text/x-python",
   "name": "python",
   "nbconvert_exporter": "python",
   "pygments_lexer": "ipython3",
   "version": "3.8.0"
  },
  "livereveal": {
   "autolaunch": true,
   "scroll": true
  }
 },
 "nbformat": 4,
 "nbformat_minor": 5
}
