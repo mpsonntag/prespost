{
 "cells": [
  {
   "cell_type": "markdown",
   "id": "1a7edaaa",
   "metadata": {},
   "source": [
    "## Data and Metadata (data annotation) - Hands on session"
   ]
  },
  {
   "cell_type": "markdown",
   "id": "0d5e4ee1",
   "metadata": {},
   "source": [
    "These exercises cover topics introduced in day_1/tutorial_3."
   ]
  },
  {
   "cell_type": "markdown",
   "id": "005fd24f",
   "metadata": {},
   "source": [
    "## Exercise 1: Exploring a NIX file from data and metadata"
   ]
  },
  {
   "cell_type": "markdown",
   "id": "db6529d3",
   "metadata": {},
   "source": [
    "1. from the \"day_1/resources\" folder open the NIX file \"2010-04-28-af.nix\" in ReadOnly mode\n",
    "2. Identify how many Blocks, Groups, DataArrays, Tags and MultiTags have metadata attached to them\n",
    "3. Select an Object with attached metdata and print the full metadata information\n",
    "4. Print the full metadata tree\n",
    "5. Identify the metadata section with name \"Recording\"\n",
    "6. Identify how many Properties the Section has\n",
    "7. Identify how many Subsections of section \"2010-04-28-af\" are referring to NIX objects and note which type they are."
   ]
  },
  {
   "cell_type": "markdown",
   "id": "d96379f4",
   "metadata": {},
   "source": [
    "### Your solution"
   ]
  },
  {
   "cell_type": "code",
   "execution_count": null,
   "id": "f28f7327",
   "metadata": {},
   "outputs": [],
   "source": []
  },
  {
   "cell_type": "markdown",
   "id": "ce1cb60e",
   "metadata": {},
   "source": [
    "## Exercise 2: Create a metadata tree"
   ]
  },
  {
   "cell_type": "markdown",
   "id": "4a8252e4",
   "metadata": {},
   "source": [
    "With this exercise you will need to get a bit imaginative. Come up with a small set of metadata terms, define a useful structure and store the information in a NIX file.\n",
    "\n",
    "As an example you can store information about hardware, software, stimulus, subject information or experimental conditions.\n",
    "\n",
    "If you have already conducted experiments of your own, select 4 main categories of metadata and store them in a Section-Property tree that makes sense from you point of view.\n",
    "\n",
    "If you have not conducted experiments yet, you can come up with an example of your own e.g. store two of your favorite cooking recipies with Ingredients, Hardware required and Steps required as sections and the details as properties.\n",
    "\n",
    "The main goal of this exercise is to make you think about how to structure the metadata you want to save."
   ]
  },
  {
   "cell_type": "markdown",
   "id": "51dd511b",
   "metadata": {},
   "source": [
    "### Your solution"
   ]
  },
  {
   "cell_type": "code",
   "execution_count": null,
   "id": "f65fdcb0",
   "metadata": {},
   "outputs": [],
   "source": []
  }
 ],
 "metadata": {
  "kernelspec": {
   "display_name": "Python 3",
   "language": "python",
   "name": "python3"
  },
  "language_info": {
   "codemirror_mode": {
    "name": "ipython",
    "version": 3
   },
   "file_extension": ".py",
   "mimetype": "text/x-python",
   "name": "python",
   "nbconvert_exporter": "python",
   "pygments_lexer": "ipython3",
   "version": "3.9.5"
  }
 },
 "nbformat": 4,
 "nbformat_minor": 5
}
