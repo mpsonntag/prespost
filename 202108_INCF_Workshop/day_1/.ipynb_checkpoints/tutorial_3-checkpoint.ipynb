{
 "cells": [
  {
   "cell_type": "markdown",
   "metadata": {},
   "source": [
    "## Data and Metadata (data annotation) - Tutorial 3"
   ]
  },
  {
   "cell_type": "markdown",
   "metadata": {},
   "source": [
    "### What are metadata and why are they needed?"
   ]
  },
  {
   "cell_type": "markdown",
   "metadata": {},
   "source": [
    "Metadata are data about data. As a non-scientific example: title and director of a movie are metadata.\n",
    "\n",
    "In science metadata describe the conditions under which the raw data of an experimental study were acquired or analysed.\n",
    "\n",
    "Metadata can be anything that is related to an experiment or an analysis step:\n",
    "- stimulus; protocols\n",
    "- environmental factors e.g. temperature, gas or liquid concentrations, ...\n",
    "- operational information e.g. experimenter, date, time, organism, strain, ...\n",
    "- subject information e.g. animal strain, history, ...\n",
    "- hardware and software used, versions, updates and customizations\n",
    "- settings\n",
    "\n",
    "Traditionally, actively collected metadata will be found in spreadsheets or lab books. Further metadata is found in raw data files (header or manufacturer documentation), hardware information, code comments, etc.\n",
    "\n",
    "All of these information might be required to fully understand how an experiment was conducted and the data analysed.\n",
    "\n",
    "The organization of such metadata and their accessibility is not a trivial task, most laboratories developed their home-made solutions over time to keep track of their metadata. The collection and organization of these metadata in its own right is a tough job since experiments are diverse and may even change over time.\n",
    "\n",
    "Metadata is especially important when trying to make sense of data \n",
    "- that you are not familiar with\n",
    "- that you have not worked with for a while\n",
    "\n",
    "A hard issue in this respect is that most of the metadata information is usually disconnected from the data it belongs to; searching data and retrieving the corresponding metadata or vice versa is usually not trivial, especially after a period of time has passed.\n",
    "\n",
    "With NIX, metadata can be stored alongside the data it belongs to.\n",
    "\n",
    "The process of collecting the metadata can be automatized and the results are machine readable and can be searched programatically."
   ]
  },
  {
   "cell_type": "markdown",
   "metadata": {},
   "source": [
    "## Data and data annotation in the same NIX file"
   ]
  },
  {
   "cell_type": "markdown",
   "metadata": {},
   "source": [
    "The entities of the NIX data model that were discussed so far carry enough information to get sufficient knowledge to understand the stored data (dimensions, units, labels). Often much more information than that is required to fully interpret the underlying experiment."
   ]
  },
  {
   "cell_type": "markdown",
   "metadata": {},
   "source": [
    "NIX does not only allow to save initial data and analysed data within the same file. It also allows to create structured annotations of the experiments that were conducted and connects this information directly with the data."
   ]
  },
  {
   "cell_type": "markdown",
   "metadata": {},
   "source": [
    "Metadata in NIX files is stored in the [odML format](https://g-node.github.io/python-odml):\n",
    "- odML is a hierarchically structured data format that provides grouping in nestable `Sections`.\n",
    "- `Sections` can hold both `Sections` and `Properties`.\n",
    "- metadata information is stored in `Property`-`Value` pairs.\n",
    "- `Sections` are the main structural elements, while `Properties` hold the actual metadata information."
   ]
  },
  {
   "cell_type": "markdown",
   "metadata": {},
   "source": [
    "### The odml data model in NIX\n",
    "![](./resources/nix_odML_model_simplified.png)"
   ]
  },
  {
   "cell_type": "markdown",
   "metadata": {},
   "source": [
    " On a conceptual level, data and metadata in a NIX file live side by side in parallel trees. The different layers can be connected from the data tree to the metadata tree. Corresponding data can be retrieved when exploring the metadata tree."
   ]
  },
  {
   "cell_type": "markdown",
   "metadata": {},
   "source": [
    "    --------------- NIX File --------\n",
    "    ├─ Section              <---     ├─ Block\n",
    "    |  ├─ Section                    |  ├─ DataArray\n",
    "    |  |  └─ Property                |  ├─ DataArray\n",
    "    |  └─ Section                    |  ├─ Tag\n",
    "    |     └─ Property                |  └─ Multitag\n",
    "    └─ Section              <---     └─ Block\n",
    "       └─ Section           <---        ├─ DataArray\n",
    "          ├─ Property                   ├─ DataArray\n",
    "          ├─ Property                   └─ Group\n",
    "          └─ Property                    \n"
   ]
  },
  {
   "cell_type": "markdown",
   "metadata": {},
   "source": [
    "# Storing metadata in NIX"
   ]
  },
  {
   "cell_type": "markdown",
   "metadata": {},
   "source": [
    "## Metadata basics: creating Section-Property trees and navigation"
   ]
  },
  {
   "cell_type": "markdown",
   "metadata": {},
   "source": [
    "To introduce the usage of metadata functions in NIX, we'll keep it simple and abstract for now."
   ]
  },
  {
   "cell_type": "code",
   "execution_count": null,
   "metadata": {},
   "outputs": [],
   "source": [
    "import nixio\n"
   ]
  },
  {
   "cell_type": "code",
   "execution_count": null,
   "metadata": {},
   "outputs": [],
   "source": [
    "# Lets explore the metadata functions of NIX before going more into detail\n",
    "# We will re-use this file throughout the following examples\n",
    "f = nixio.File.open(\"metadata.nix\", nixio.FileMode.Overwrite)\n"
   ]
  },
  {
   "cell_type": "code",
   "execution_count": null,
   "metadata": {},
   "outputs": [],
   "source": [
    "# As expected there are no metadata in our current file yet.\n",
    "print(f.sections)\n"
   ]
  },
  {
   "cell_type": "code",
   "execution_count": null,
   "metadata": {},
   "outputs": [],
   "source": [
    "# Lets check how we can create a new Section. Sections can be created from File and Section objects.\n",
    "help(f.create_section)\n"
   ]
  },
  {
   "cell_type": "markdown",
   "metadata": {},
   "source": [
    "You can find the class information including all available methods in the nixpy readthedocs API entry for [nix.sections](https://nixpy.readthedocs.io/en/latest/api/nixio.html#module-nixio.section)."
   ]
  },
  {
   "cell_type": "code",
   "execution_count": null,
   "metadata": {},
   "outputs": [],
   "source": [
    "# First we need to create a Section that can hold our annotations. \n",
    "# We'll use abstract names and types for now.\n",
    "sec = f.create_section(name=\"recording.20210405\", \n",
    "                       type_=\"raw.data.recording\")\n",
    "\n",
    "f.sections\n"
   ]
  },
  {
   "cell_type": "code",
   "execution_count": null,
   "metadata": {},
   "outputs": [],
   "source": [
    "# Like other NIX objects Section (and Property) names on the same \n",
    "# level have to be unique. Otherwise a 'DuplicateName' exception \n",
    "# will be raised.\n",
    "section = f.create_section(name=\"recording.20210405\", \n",
    "                           type_=\"raw.data.recording\")"
   ]
  },
  {
   "cell_type": "code",
   "execution_count": null,
   "metadata": {},
   "outputs": [],
   "source": [
    "# Sections can hold further multiple Sections as well as \n",
    "# multiple Properties.\n",
    "sec.sections\n"
   ]
  },
  {
   "cell_type": "code",
   "execution_count": null,
   "metadata": {},
   "outputs": [],
   "source": [
    "# The section currently does not contain any Properties.\n",
    "sec.props"
   ]
  },
  {
   "cell_type": "code",
   "execution_count": null,
   "metadata": {},
   "outputs": [],
   "source": [
    "# We want to add information about a subject that was used in the \n",
    "# experiment.\n",
    "sub_sec = sec.create_section(name=\"subject\", \n",
    "                             type_=\"raw.data.recording\")\n"
   ]
  },
  {
   "cell_type": "code",
   "execution_count": null,
   "metadata": {},
   "outputs": [],
   "source": [
    "# Properties can be created from Section objects.\n",
    "help(sub_sec.create_property)\n"
   ]
  },
  {
   "cell_type": "markdown",
   "metadata": {},
   "source": [
    "Again, you can find all class information in the nixpy readthedocs API entry for [nix.property](https://nixpy.readthedocs.io/en/latest/api/nixio.html#module-nixio.property)."
   ]
  },
  {
   "cell_type": "code",
   "execution_count": null,
   "metadata": {},
   "outputs": [],
   "source": [
    "# We'll add metadata about subjectID, subject species and \n",
    "# subject age as Properties to the \"Subject\" section.\n",
    "_ = sub_sec.create_property(name=\"subjectID\", \n",
    "                            values_or_dtype=\"78376446-f096-47b9-8bfe-ce1eb43a48dc\")\n",
    "\n",
    "_ = sub_sec.create_property(name=\"species\", \n",
    "                            values_or_dtype=\"Mus Musculus\")\n",
    "\n",
    "# To fully describe metadata, properties support saving \"unit\" \n",
    "# and \"uncertainty\" together with values.\n",
    "prop = sub_sec.create_property(name=\"age\", \n",
    "                               values_or_dtype=\"4\")\n",
    "\n",
    "prop.unit = \"weeks\"\n",
    "# prop.uncertainty"
   ]
  },
  {
   "cell_type": "code",
   "execution_count": null,
   "metadata": {},
   "outputs": [],
   "source": [
    "# Lets check what we have so far at the root of the file.\n",
    "f.sections\n"
   ]
  },
  {
   "cell_type": "code",
   "execution_count": null,
   "metadata": {},
   "outputs": [],
   "source": [
    "# File and Sections also support the \"pprint\" function to make it easier \n",
    "# to get an overview of the contents of the metadata tree.\n",
    "f.pprint()"
   ]
  },
  {
   "cell_type": "code",
   "execution_count": null,
   "metadata": {},
   "outputs": [],
   "source": [
    "# We access all Properties of the subsection containing subject related \n",
    "# information.\n",
    "# Sections can be accessed via index or via name\n",
    "f.sections[0].sections['subject'].props\n"
   ]
  },
  {
   "cell_type": "code",
   "execution_count": null,
   "metadata": {},
   "outputs": [],
   "source": [
    "# We can also again use the pprint function\n",
    "f.sections[0].sections['subject'].pprint()"
   ]
  },
  {
   "cell_type": "code",
   "execution_count": null,
   "metadata": {},
   "outputs": [],
   "source": [
    "f.close()"
   ]
  },
  {
   "cell_type": "markdown",
   "metadata": {},
   "source": [
    "## Connecting data and metadata"
   ]
  },
  {
   "cell_type": "markdown",
   "metadata": {},
   "source": [
    "Until now we have seen how to create and store metadata in NIX files. Now we can check how to connect them to actual data."
   ]
  },
  {
   "cell_type": "code",
   "execution_count": null,
   "metadata": {},
   "outputs": [],
   "source": [
    "f = nixio.File.open(\"metadata.nix\", nixio.FileMode.ReadWrite)"
   ]
  },
  {
   "cell_type": "code",
   "execution_count": null,
   "metadata": {},
   "outputs": [],
   "source": [
    "# We'll add some minimal abstract data\n",
    "rec_block = f.create_block(name=\"project.recordings\", \n",
    "                           type_=\"example.raw.data\")"
   ]
  },
  {
   "cell_type": "code",
   "execution_count": null,
   "metadata": {},
   "outputs": [],
   "source": [
    "example_data_01 = [2, 2, 2, 6, 6, 6, 6, 2, 2, 2]\n",
    "da = rec_block.create_data_array(name=\"recording.20210405\", \n",
    "                                 array_type=\"shift.data\", \n",
    "                                 data=example_data_01,\n",
    "                                 label=\"df/f\")\n",
    "\n",
    "da.append_sampled_dimension(0.001, label=\"time\", unit=\"s\")"
   ]
  },
  {
   "cell_type": "code",
   "execution_count": null,
   "metadata": {},
   "outputs": [],
   "source": [
    "example_data_02 = [2, 2, 2, 8, 8, 8, 8, 2, 2, 2]\n",
    "da = rec_block.create_data_array(name=\"recording.20210505.01\", \n",
    "                                 array_type=\"shift.data\", \n",
    "                                 data=example_data_02,\n",
    "                                 label=\"df/f\")\n",
    "\n",
    "da.append_sampled_dimension(0.001, label=\"time\", unit=\"s\")"
   ]
  },
  {
   "cell_type": "code",
   "execution_count": null,
   "metadata": {},
   "outputs": [],
   "source": [
    "# We'll also create a NIX Tag, that will reference a specific region \n",
    "# in the data.\n",
    "stim_on = 4\n",
    "stim_off = 8\n",
    "# We create the Tag on the same Block as the DataArrays \n",
    "# it should reference.\n",
    "stimulus_tag = rec_block.create_tag(\"stimulus.down.3\", \n",
    "                                    \"stimulus.shift\", \n",
    "                                    position=[stim_on])\n",
    "\n",
    "stimulus_tag.extent = [stim_off - stim_on]\n",
    "\n",
    "# We append the DataArrays of both experiments to the tag\n",
    "stimulus_tag.references.append(f.blocks[\"project.recordings\"].data_arrays[\"recording.20210405\"])\n",
    "stimulus_tag.references.append(f.blocks[\"project.recordings\"].data_arrays[\"recording.20210505.01\"])"
   ]
  },
  {
   "cell_type": "code",
   "execution_count": null,
   "metadata": {},
   "outputs": [],
   "source": [
    "# Now we want to hook up the DataArrays and the Tag to more information;\n",
    "# to the metadata we have defined before.\n",
    "\n",
    "# We will only reference the appropriate metadata for recording 20210405, \n",
    "# since we have not defined metadata for the second recording yet.\n",
    "\n",
    "# We'll set the metadata for both data array and tag\n",
    "f.blocks[\"project.recordings\"].data_arrays[\"recording.20210405\"].metadata = f.sections[\"recording.20210405\"]\n",
    "f.blocks[\"project.recordings\"].tags[\"stimulus.down.3\"].metadata = f.sections[\"recording.20210405\"]\n"
   ]
  },
  {
   "cell_type": "code",
   "execution_count": null,
   "metadata": {},
   "outputs": [],
   "source": [
    "# We can now access the metadata from DataArray and Tag:\n",
    "f.blocks[\"project.recordings\"].data_arrays[\"recording.20210405\"].metadata.pprint()\n"
   ]
  },
  {
   "cell_type": "code",
   "execution_count": null,
   "metadata": {},
   "outputs": [],
   "source": [
    "f.blocks[\"project.recordings\"].tags[\"stimulus.down.3\"].metadata.pprint()\n"
   ]
  },
  {
   "cell_type": "code",
   "execution_count": null,
   "metadata": {},
   "outputs": [],
   "source": [
    "f.blocks[\"project.recordings\"].data_arrays[\"recording.20210505.01\"].metadata\n"
   ]
  },
  {
   "cell_type": "code",
   "execution_count": null,
   "metadata": {},
   "outputs": [],
   "source": [
    "# We can also access DataArrays via the metadata\n",
    "f.sections[\"recording.20210405\"].referring_data_arrays"
   ]
  },
  {
   "cell_type": "code",
   "execution_count": null,
   "metadata": {},
   "outputs": [],
   "source": [
    "f.sections[\"recording.20210405\"].referring_tags"
   ]
  },
  {
   "cell_type": "code",
   "execution_count": null,
   "metadata": {},
   "outputs": [],
   "source": [
    "# The referring_objects method is a shortcut to all references\n",
    "# of a section\n",
    "f.sections[\"recording.20210405\"].referring_objects"
   ]
  },
  {
   "cell_type": "code",
   "execution_count": null,
   "metadata": {},
   "outputs": [],
   "source": [
    "f.sections[\"recording.20210405\"].referring_blocks"
   ]
  },
  {
   "cell_type": "code",
   "execution_count": null,
   "metadata": {},
   "outputs": [],
   "source": [
    "f.sections[\"recording.20210405\"].referring_groups\n"
   ]
  },
  {
   "cell_type": "code",
   "execution_count": null,
   "metadata": {},
   "outputs": [],
   "source": [
    "f.sections[\"recording.20210405\"].referring_multi_tags"
   ]
  },
  {
   "cell_type": "code",
   "execution_count": null,
   "metadata": {},
   "outputs": [],
   "source": [
    "f.close()"
   ]
  },
  {
   "cell_type": "markdown",
   "metadata": {},
   "source": [
    "## Automated handling of metadata"
   ]
  },
  {
   "cell_type": "markdown",
   "metadata": {},
   "source": [
    "Metadata can become quite complex and it can become tedious to create large trees over and over again. To this end, \"template\" sections can be created and re-used.\n",
    "\n",
    "As an example: when running an experiment, there usually are a couple of different stimulus protocols or one or two hardware setups, but the stimulus or the hardware itself does not change. When adding data to an existing NIX file, the hardware metadata can be pre-defined for these setups and attached to the specific experimental data once it is stored in the file."
   ]
  },
  {
   "cell_type": "code",
   "execution_count": null,
   "metadata": {},
   "outputs": [],
   "source": [
    "# The file that will contain templates for import\n",
    "ft = nixio.File.open(\"metadata_templates.nix\", nixio.FileMode.Overwrite)\n",
    "\n",
    "# The current example file will contain the data and will import from the templates file\n",
    "fi = nixio.File.open(\"metadata.nix\", nixio.FileMode.ReadWrite)"
   ]
  },
  {
   "cell_type": "code",
   "execution_count": null,
   "metadata": {},
   "outputs": [],
   "source": [
    "# We will add basic templates representing two similar imaginative \n",
    "# microscope setups with slightly different metadata.\n",
    "sec_micro_A = ft.create_section(name=\"microscope_station_A\", \n",
    "                                type_=\"hardware.microscopes\")\n",
    "_ = sec_micro_A.create_property(name=\"Manufacturer\", \n",
    "                                values_or_dtype=\"Company A\")\n",
    "_ = sec_micro_A.create_property(name=\"Objective\", \n",
    "                                values_or_dtype=\"Pln Apo 40x/1.3 oil DIC II\")\n",
    "_ = sec_micro_A.create_property(name=\"pE LED intensity\", \n",
    "                                values_or_dtype=\"20\")\n",
    "\n",
    "sec_micro_B = ft.create_section(name=\"microscope_station_B\", \n",
    "                                type_=\"hardware.microscopes\")\n",
    "_ = sec_micro_B.create_property(name=\"Manufacturer\", \n",
    "                                values_or_dtype=\"Company B\")\n",
    "_ = sec_micro_B.create_property(name=\"Objective\", \n",
    "                                values_or_dtype=\"Pln Apo 40x/1.3 oil DIC II\")\n",
    "_ = sec_micro_B.create_property(name=\"pE LED intensity\", \n",
    "                                values_or_dtype=\"30\")\n"
   ]
  },
  {
   "cell_type": "code",
   "execution_count": null,
   "metadata": {},
   "outputs": [],
   "source": [
    "# The root \"templates\" section now contains two microscope setup templates\n",
    "ft.pprint(max_depth=2)"
   ]
  },
  {
   "cell_type": "markdown",
   "metadata": {},
   "source": [
    "When running an experiment and adding new data to the NIX file, the appropriate, full template can be copied and added."
   ]
  },
  {
   "cell_type": "code",
   "execution_count": null,
   "metadata": {},
   "outputs": [],
   "source": [
    "# Create a base section in the recording session file.\n",
    "sec_ses = fi.create_section(name=\"sessions\")\n",
    "\n",
    "# On three different days experiments are added and the used setup \n",
    "# is documented using the templates:\n",
    "sec_session01 = fi.sections[\"sessions\"].create_section(name=\"recording.20210505.01\", \n",
    "                                                       type_=\"raw-data.ca-imaging\")\n",
    "\n",
    "sec_setup_A = ft.sections[\"microscope_station_A\"]\n",
    "sec_session01.copy_section(sec_setup_A)\n",
    "\n",
    "sec_session02 = fi.sections[\"sessions\"].create_section(name=\"recording.20210506.01\", \n",
    "                                                       type_=\"raw-data.ca-imaging\")\n",
    "\n",
    "sec_setup_B = ft.sections[\"microscope_station_B\"]\n",
    "sec_session02.copy_section(sec_setup_B)\n",
    "\n",
    "sec_session03 = fi.sections[\"sessions\"].create_section(name=\"recording.20210507.01\", \n",
    "                                                       type_=\"raw-data.ca-imaging\")\n",
    "\n",
    "sec_setup_A = ft.sections[\"microscope_station_A\"]\n",
    "sec_session03.copy_section(sec_setup_A)\n"
   ]
  },
  {
   "cell_type": "code",
   "execution_count": null,
   "metadata": {},
   "outputs": [],
   "source": [
    "fi.pprint()"
   ]
  },
  {
   "cell_type": "code",
   "execution_count": null,
   "metadata": {},
   "outputs": [],
   "source": [
    "ft.close()\n",
    "fi.close()"
   ]
  },
  {
   "cell_type": "markdown",
   "metadata": {},
   "source": [
    "## Finding information and data by filtering"
   ]
  },
  {
   "cell_type": "markdown",
   "metadata": {},
   "source": [
    "NIX files can get quite extensive in both data and metadata contained. Filter methods can help to find specific metadata or data when simply walking through the file becomes too tedious."
   ]
  },
  {
   "cell_type": "code",
   "execution_count": null,
   "metadata": {},
   "outputs": [],
   "source": [
    "# We will re-use the metadata.nix file created in the previous examples\n",
    "fi = nixio.File.open(\"metadata.nix\", nixio.FileMode.ReadOnly)"
   ]
  },
  {
   "cell_type": "markdown",
   "metadata": {},
   "source": [
    "Both `File` and `Section` objects provide a `find_sections` method."
   ]
  },
  {
   "cell_type": "code",
   "execution_count": null,
   "metadata": {},
   "outputs": [],
   "source": [
    "# We can search all sections directly from file level\n",
    "fi.find_sections(lambda sec: sec.name == \"subject\")"
   ]
  },
  {
   "cell_type": "code",
   "execution_count": null,
   "metadata": {},
   "outputs": [],
   "source": [
    "fi.find_sections(lambda sec: sec.type.startswith(\"raw\"))"
   ]
  },
  {
   "cell_type": "code",
   "execution_count": null,
   "metadata": {},
   "outputs": [],
   "source": [
    "fi.find_sections(lambda sec: sec.name == \"microscope_station_A\")"
   ]
  },
  {
   "cell_type": "code",
   "execution_count": null,
   "metadata": {},
   "outputs": [],
   "source": [
    "fi.find_sections(lambda sec: len(sec.referring_data_arrays) > 0)"
   ]
  },
  {
   "cell_type": "markdown",
   "metadata": {},
   "source": [
    "## Hands on session 3\n",
    "\n",
    "Now we move on to another hands on session.\n",
    "\n",
    "In the folder \"day_1\" of the repository https://gin.g-node.org/INCF-workshop-2021/NIX-Neo-workshop you will find a  Jupyter notebook \"hands_on_3.ipynb\".\n",
    "\n",
    "Again, start it either\n",
    "- locally if you can use Python and make sure all dependencies are installed.\n",
    "- or use Binder if you cannot use Python locally. The repository is already set up for the use with Binder.\n"
   ]
  }
 ],
 "metadata": {
  "kernelspec": {
   "display_name": "Python 3",
   "language": "python",
   "name": "python3"
  },
  "language_info": {
   "codemirror_mode": {
    "name": "ipython",
    "version": 3
   },
   "file_extension": ".py",
   "mimetype": "text/x-python",
   "name": "python",
   "nbconvert_exporter": "python",
   "pygments_lexer": "ipython3",
   "version": "3.9.5"
  }
 },
 "nbformat": 4,
 "nbformat_minor": 2
}
