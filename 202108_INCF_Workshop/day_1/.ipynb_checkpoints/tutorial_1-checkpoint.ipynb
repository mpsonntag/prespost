{
 "cells": [
  {
   "cell_type": "markdown",
   "metadata": {},
   "source": [
    "# Basics\n",
    "\n",
    "This tutorial covers the basics of working with nix files.\n",
    "\n",
    "1. Opening and closing nix files with different file ``FileModes``.\n",
    "2. Storing data and using dimension descriptors.\n",
    "\n",
    "## Working with Files"
   ]
  },
  {
   "cell_type": "code",
   "execution_count": 1,
   "metadata": {},
   "outputs": [
    {
     "name": "stdout",
     "output_type": "stream",
     "text": [
      "nixio library version: 1.5.1\n"
     ]
    }
   ],
   "source": [
    "import nixio\n",
    "print(\"nixio library version:\", nixio.__version__)"
   ]
  },
  {
   "cell_type": "markdown",
   "metadata": {},
   "source": [
    "### create a new file\n",
    "\n",
    "* The following command tries to open the file \"new_data_file.nix\" in ``nix.FileMode.ReadWrite`` mode.\n",
    "* If it does not exist, it will be created."
   ]
  },
  {
   "cell_type": "code",
   "execution_count": 2,
   "metadata": {},
   "outputs": [
    {
     "name": "stdout",
     "output_type": "stream",
     "text": [
      "file format: nix\n",
      "nix data model version: (1, 2, 1)\n"
     ]
    }
   ],
   "source": [
    "nixfile = nixio.File.open(\"new_data_file.nix\", nixio.FileMode.ReadWrite)\n",
    "print(\"file format:\", nixfile.format)\n",
    "print(\"nix data model version:\", nixfile.version)"
   ]
  },
  {
   "cell_type": "markdown",
   "metadata": {},
   "source": [
    "### nixio writes hdf5 files\n",
    "\n",
    "* The file is an HDF5 file, the standard file extension would be ``*.h5``\n",
    "* The file extension can be anything you wish.\n",
    "* We will always use ``*.nix`` to indicate how it should be opened.\n",
    "\n",
    "Files can be opened in different ``FileModes``, nixio defines three different modes:\n",
    "\n",
    "1. ``nixio.FileMode.ReadWrite`` the default mode\n",
    "2. ``nixio.FileMode.ReadOnly``\n",
    "3. ``nixio.FileMode.Overwrite``\n",
    "\n",
    "An opened file should be closed after you are done with it to finish any pending write and free any resources used by h5py."
   ]
  },
  {
   "cell_type": "code",
   "execution_count": 3,
   "metadata": {},
   "outputs": [],
   "source": [
    "nixfile.close()"
   ]
  },
  {
   "cell_type": "markdown",
   "metadata": {},
   "source": [
    "The written file is an [HDF5](https://www.hdfgroup.org/) file, we can use the tools that are provided by the HDF5 library to access the file."
   ]
  },
  {
   "cell_type": "code",
   "execution_count": null,
   "metadata": {},
   "outputs": [],
   "source": [
    "!h5ls -v new_data_file.nix"
   ]
  },
  {
   "cell_type": "markdown",
   "metadata": {},
   "source": []
  },
  {
   "cell_type": "code",
   "execution_count": null,
   "metadata": {},
   "outputs": [],
   "source": [
    "print(\"#\" * 10, \"Opening a file in ReadOnly mode\", \"#\" * 10)\n",
    "\n",
    "nixfile = nixio.File.open(\"new_data_file.nix\", nixio.FileMode.ReadOnly)\n",
    "print(\"Adding a Block to the file will fail ...\")\n",
    "try:\n",
    "    nixfile.create_block(\"new block\", \"nix.session\")\n",
    "except:\n",
    "    print(\"File mode\", nixfile.mode, \"(reading)\")\n",
    "    print(\"creating the block failed! The file is opened in ReadOnly mode\")\n",
    "nixfile.close()"
   ]
  },
  {
   "cell_type": "code",
   "execution_count": null,
   "metadata": {},
   "outputs": [],
   "source": [
    "print(\"#\" * 10, \"Opening a file in ReadWrite mode\", \"#\" * 10)\n",
    "\n",
    "nixfile = nixio.File.open(\"new_data_file.nix\", nixio.FileMode.ReadWrite)\n",
    "print(\"File mode\", nixfile.mode, \"(append)\")\n",
    "nixfile.create_block(\"new block\", \"nix.session\")\n",
    "print(\"Blocks in file\", nixfile.blocks)\n",
    "nixfile.close()"
   ]
  },
  {
   "cell_type": "code",
   "execution_count": null,
   "metadata": {},
   "outputs": [],
   "source": [
    "print(\"#\" * 10, \"Opening a file in Overwrite mode\", \"#\" * 10)\n",
    "\n",
    "nixfile = nixio.File.open(\"new_data_file.nix\", nixio.FileMode.Overwrite)\n",
    "print(\"File mode\", nixfile.mode, \"(write)\")\n",
    "print(\"All formerly stored information is gone when using Overwrite\")\n",
    "print(\"Blocks in file\", nixfile.blocks)\n",
    "nixfile.close()"
   ]
  },
  {
   "cell_type": "markdown",
   "metadata": {},
   "source": [
    "## Unique IDs & Timestamps\n",
    "\n",
    "Upon creation some standard fields are created on almost any nix-entity\n",
    "\n",
    "1. ID\n",
    "2. created_at\n",
    "3. updated_at\n",
    "\n",
    "\n",
    "### ID\n",
    "\n",
    "The ID field is a text field automatically created and filled with a string randomly generated from the 36 characters drawn from Base32hex alphabet (RFC 4648)\n",
    "\n",
    "The ID has an extreme low collision probability and can be used as a unique identifier.\n",
    "\n",
    "### created_at, updated_at\n",
    "\n",
    "Both are automatically set when an entity is created.\n",
    "`updated_at` is only updated when the information of the entity itself is changed. If one wants to change this timestamp, one can use the `force_updated_at` method."
   ]
  },
  {
   "cell_type": "code",
   "execution_count": null,
   "metadata": {},
   "outputs": [],
   "source": [
    "import time\n",
    "import datetime as dt\n",
    "nixfile = nixio.File.open(\"new_data_file.nix\", nixio.FileMode.Overwrite)\n",
    "print(\"id:\", nixfile.id)\n",
    "print(\"created at:\", dt.datetime.fromtimestamp(nixfile.created_at))\n",
    "print(\"updated at:\", dt.datetime.fromtimestamp(nixfile.updated_at))\n",
    "\n",
    "time.sleep(2)\n",
    "block = nixfile.create_block(\"test block\", \"nix.session\")\n",
    "nixfile.force_updated_at()\n",
    "print(\"created at:\", dt.datetime.fromtimestamp(nixfile.created_at))\n",
    "print(\"updated at:\", dt.datetime.fromtimestamp(nixfile.updated_at))\n",
    "\n",
    "print(\"block created at:\", dt.datetime.fromtimestamp(block.created_at))\n",
    "print(\"block updated at:\", dt.datetime.fromtimestamp(block.updated_at))\n",
    "\n",
    "time.sleep(2)\n",
    "block.definition = \"The recording sesssion\"\n",
    "print(\"block created at:\", dt.datetime.fromtimestamp(block.created_at))\n",
    "print(\"block updated at:\", dt.datetime.fromtimestamp(block.updated_at))\n",
    "\n",
    "nixfile.close()"
   ]
  },
  {
   "cell_type": "markdown",
   "metadata": {},
   "source": []
  },
  {
   "cell_type": "markdown",
   "metadata": {},
   "source": [
    "# Storing data in a NIX file\n",
    "\n",
    "Main purpose of a nix-file is to store data.\n",
    "\n",
    "E.g. when recording the membrane or field potential data... \n",
    "Usually, these data are read as floats representing the potential and are sampled at evenly spaced times at a given *sampling rate*.\n",
    "\n",
    "![data model](resources/nix_regular_sampled.png)\n",
    "\n",
    "We need to store:\n",
    "- the data (voltage measurements)\n",
    "- the y-axis labeling, i.e. label (voltage) and unit (mV)\n",
    "- the x-axis labeling, i.e. label (time) and unit (s)\n",
    "- the x-position for each data point\n",
    "- a title/legend\n",
    "\n",
    "\n",
    "## The DataArray\n",
    "\n",
    "**DataArrays** store the data. They live inside a **Block** entity that is a top-level grouping element.\n",
    "\n",
    "But, it only stores the y-values!\n",
    "\n",
    "The x-positions are defined by a **Dimension** descriptor. In this case this descriptor stores:\n",
    "\n",
    "- a definition of the x-axis consisting of an offset\n",
    "- the sampling interval\n",
    "- a label\n",
    "- and a unit.\n"
   ]
  },
  {
   "cell_type": "code",
   "execution_count": null,
   "metadata": {},
   "outputs": [],
   "source": [
    "import numpy as np\n",
    "\n",
    "dt = 0.001\n",
    "duration = 10.0\n",
    "time = np.arange(0.0, duration, dt)\n",
    "voltage_data = np.sin(2 * np.pi * time * 0.5)\n",
    "\n",
    "nixfile = nixio.File.open(\"regularly_sampled_data.nix\", nixio.FileMode.Overwrite)\n",
    "block = nixfile.create_block(\"session 1\", \"nix.session\")\n",
    "array = block.create_data_array(\"sinewave\", \"nix.data.sampled\", data=voltage_data, label=\"voltage\", unit=\"Hz\")\n",
    "array.append_sampled_dimension(dt, label=\"time\", unit=\"s\")\n",
    "\n",
    "nixfile.close()\n"
   ]
  },
  {
   "cell_type": "markdown",
   "metadata": {},
   "source": [
    "## Reading Data from a DataArray\n",
    "\n",
    "Storing is one thing, reading out the information is the obvious next step...\n"
   ]
  },
  {
   "cell_type": "code",
   "execution_count": null,
   "metadata": {},
   "outputs": [],
   "source": [
    "nixfile = nixio.File.open(\"regularly_sampled_data.nix\", nixio.FileMode.ReadOnly)\n",
    "block = nixfile.blocks[0]\n",
    "array = block.data_arrays[\"sinewave\"]\n",
    "print(array)\n"
   ]
  },
  {
   "cell_type": "markdown",
   "metadata": {},
   "source": [
    "Cool, now we found the **DataArray** that contains the data. What to do with it? Let's find out some of it's properties."
   ]
  },
  {
   "cell_type": "code",
   "execution_count": null,
   "metadata": {},
   "outputs": [],
   "source": [
    "print(\"Name, id, and type\", array.name, array.id, array.type)\n",
    "print(\"Data extent (aka shape), and data type:\", array.data_extent, array.dtype)\n",
    "print(\"Label and unit of the data:\", array.label, array.unit)\n",
    "import sys\n",
    "print(\"DataArray size in memory:\", sys.getsizeof(array), \"bytes\")"
   ]
  },
  {
   "cell_type": "markdown",
   "metadata": {},
   "source": [
    "the *array* object we read from file is small. It can not possibly contain 10000 double values and all the other information...\n",
    "\n",
    "**Note:** nixio objects are lightweight objects that are basically pointers to the location in the file!\n",
    "Every time we read information from it, it is a read access to the file. This makes them cheap to create and maintain in memory but reading information takes a little.\n",
    "\n",
    "--> So, how to read the data itself? We need to access it and can use numpy style to do so."
   ]
  },
  {
   "cell_type": "code",
   "execution_count": null,
   "metadata": {},
   "outputs": [],
   "source": [
    "\n",
    "sinewave_data = array[:]\n",
    "print(type(sinewave_data), sinewave_data.shape)\n",
    "\n",
    "partial_sinewave_data = array[::10]\n",
    "print(type(partial_sinewave_data), partial_sinewave_data.shape)"
   ]
  },
  {
   "cell_type": "code",
   "execution_count": null,
   "metadata": {},
   "outputs": [],
   "source": [
    "\n",
    "%config InlineBackend.figure_formats = ['retina'] # only for users with a high resolution display\n",
    "import matplotlib.pyplot as plt\n",
    "%matplotlib inline\n",
    "\n",
    "plt.plot(sinewave_data, label=\"original\")\n",
    "plt.plot(partial_sinewave_data, label=\"subsampled\")\n",
    "plt.legend()"
   ]
  },
  {
   "cell_type": "markdown",
   "metadata": {},
   "source": [
    "\n",
    "\n",
    "\n",
    "\n",
    "It is a plot but some parts are missing...\n",
    "\n",
    "All this information is stored in the **DataArray**.\n",
    "\n",
    "Let's start with the y-labeling: This information is stored in the **DataArray** itself.\n"
   ]
  },
  {
   "cell_type": "code",
   "execution_count": null,
   "metadata": {},
   "outputs": [],
   "source": [
    "plt.plot(sinewave_data, label=\"original\")\n",
    "plt.plot(partial_sinewave_data, label=\"subsampled\")\n",
    "plt.legend()\n",
    "plt.ylabel(\"%s [%s]\" % (array.label, array.unit))"
   ]
  },
  {
   "cell_type": "markdown",
   "metadata": {},
   "source": [
    "What about the x-labeling? To fix this we need to get the dimension descriptor for the time-dimension."
   ]
  },
  {
   "cell_type": "code",
   "execution_count": null,
   "metadata": {},
   "outputs": [],
   "source": [
    "time_dimension = array.dimensions[0]\n",
    "\n",
    "plt.plot(sinewave_data, label=\"original\")\n",
    "plt.plot(partial_sinewave_data, label=\"subsampled\")\n",
    "plt.legend()\n",
    "plt.ylabel(\"%s [%s]\" % (array.label, array.unit))\n",
    "plt.xlabel(\"%s [%s]\" % (time_dimension.label, time_dimension.unit))"
   ]
  },
  {
   "cell_type": "markdown",
   "metadata": {},
   "source": [
    "So far so good. But something's still off, let's fix this:\n",
    "\n",
    "We need to use further information from the dimension descriptor (the sampling interval, and the offset) to create it with numpy, or we ask the dimension descriptor to do it for us."
   ]
  },
  {
   "cell_type": "code",
   "execution_count": null,
   "metadata": {},
   "outputs": [],
   "source": [
    "\n",
    "time_dimension = array.dimensions[0]\n",
    "sinewave_time_axis = time_dimension.axis(len(sinewave_data))\n",
    "partial_sinewave_time_axis = sinewave_time_axis[::10]\n",
    "\n",
    "plt.plot(sinewave_time_axis, sinewave_data, label=\"original\")\n",
    "plt.plot(partial_sinewave_time_axis, partial_sinewave_data, label=\"subsampled\")\n",
    "plt.legend()\n",
    "plt.ylabel(\"%s [%s]\" % (array.label, array.unit))\n",
    "plt.xlabel(\"%s [%s]\" % (time_dimension.label, time_dimension.unit))"
   ]
  },
  {
   "cell_type": "markdown",
   "metadata": {},
   "source": [
    "**Done!**"
   ]
  },
  {
   "cell_type": "markdown",
   "metadata": {},
   "source": [
    "## Irregularly sampled data\n",
    "\n",
    "What about data that is not regularly sampled (in time)?\n",
    "\n",
    "![data model](resources/nix_irregular_sampled.png)\n",
    "\n",
    "A signal similar to what we had before is recorded but this time the temporal distance between the measurements is not regular. Storing this kind of data is not as efficient as in the regularly sampled case since we need to store the time of each measurement and the measured value. The following information needs to be stored to describe the dimension:\n",
    "\n",
    "1. x-positions of the data points, i.e. ticks\n",
    "2. label\n",
    "3. unit\n",
    "\n",
    "In this kind of dimension we store a range of ticks, therefore the name **RangeDimension**. It needs to be added to the **DataArray** when it is created.\n",
    "\n",
    "### Radar trap example scenario\n",
    "\n",
    "Let's consider a scenario in which information does not flow in in a steady stream but comes in irregularly such as a radar trap. With each passing car there will be a measurement but the intervals at which the measurements are taken are defined by the traffic, not the measurement system.\n"
   ]
  },
  {
   "cell_type": "markdown",
   "metadata": {},
   "source": []
  },
  {
   "cell_type": "code",
   "execution_count": null,
   "metadata": {},
   "outputs": [],
   "source": [
    "import numpy as np\n",
    "\n",
    "def radar_trap_data(duration=1000, car_probability=0.15, dt=0.01, speed_limit=50, speeder_probability=0.01):\n",
    "    time = np.arange(0, duration, dt)\n",
    "    car_times = time[np.random.random(len(time)) < (car_probability * dt)]\n",
    "    car_speeds = speed_limit + np.random.randn(len(car_times)) * 0.05 * speed_limit\n",
    "    indices = np.arange(len(car_times), dtype=int)\n",
    "    np.random.shuffle(indices)\n",
    "    speeders = indices[:int(np.round(speeder_probability * len(car_times)))]\n",
    "    car_speeds[speeders] += 0.5 * speed_limit\n",
    "    return car_times, car_speeds\n",
    "\n",
    "\n",
    "times, speeds = radar_trap_data()\n",
    "\n",
    "plt.plot(times, speeds, marker=\".\", zorder=2)\n",
    "plt.hlines([50], 0, times[-1], color=\"grey\", ls=\"--\", zorder=1)"
   ]
  },
  {
   "cell_type": "code",
   "execution_count": null,
   "metadata": {},
   "outputs": [],
   "source": [
    "nixfile = nixio.File.open(\"radar_trap.nix\", nixio.FileMode.Overwrite)\n",
    "block = nixfile.create_block(\"radar trap\", \"speed measurements\")\n",
    "\n",
    "data_array = block.create_data_array(\"car speeds\", \"nix.irregular_sampled\", data=speeds, label=\"speed\", unit=\"km/h\")\n",
    "data_array.append_range_dimension(ticks=times, unit=\"s\", label=\"time\")\n",
    "\n",
    "nixfile.close()"
   ]
  },
  {
   "cell_type": "markdown",
   "metadata": {},
   "source": [
    "### Spike times\n",
    "\n",
    "Sometimes the times of certain events (e.g. action potentials in neurophysiology) is the the data and the dimension at the same time.\n",
    "\n",
    "Since the data is still irregularly sampled, we use a **RangeDimension** to describe the time axis but we tell it to use the \"parent\" **DataArray** as a source for the ticks.\n",
    "\n",
    "```\n",
    "spike_times = get_spike_times(data)\n",
    "\n",
    "spikes_data_array = block.create_data_array(\"spike times\", \"nix.irregular_sampled.spike_times\", data=spike_times, label=\"time\", unit=\"s\")\n",
    "spikes_data_array.append_range_dimension_using_self()\n",
    "```"
   ]
  },
  {
   "cell_type": "markdown",
   "metadata": {},
   "source": [
    "## Categorical data\n",
    "\n",
    "![data model](resources/nix_set_dimension.png)\n",
    "\n",
    "If we need to store data that falls into categories, i.e. the x-positions are not numeric or the dimension does not have a natural order, a SetDimension is used. It stores a label for each entry along the described dimension."
   ]
  },
  {
   "cell_type": "code",
   "execution_count": null,
   "metadata": {},
   "outputs": [],
   "source": [
    "def create_data():\n",
    "    categories = [\"Jan\", \"Feb\", \"Mar\", \"Apr\", \"May\", \"Jun\"]\n",
    "    temperatures = [100, 110, 95, 150, 200, 250]\n",
    "\n",
    "    return temperatures, categories\n",
    "\n",
    "temperatures, months = create_data()\n",
    "\n",
    "nixfile = nixio.File.open(\"categorical_data.nix\", nixio.FileMode.Overwrite)\n",
    "\n",
    "block = nixfile.create_block(\"weather data\", \"test\")\n",
    "data_array = block.create_data_array(\"category data\", \"nix.categorical\", data=temperatures, label=\"temperature\", unit=\"K\")\n",
    "data_array.append_set_dimension(labels=months)\n",
    "\n",
    "nixfile.close()"
   ]
  },
  {
   "cell_type": "markdown",
   "metadata": {},
   "source": [
    "## 2-D data\n",
    "\n",
    "**DataArrays** can store n-dimensional data. In such cases we need to provide n dimension descriptors.\n",
    "\n",
    "![data model](resources/multiple_channels.png)\n",
    "\n",
    "The first dimension represents time, the second the channels. Since the data is regularly sampled the time dimension is fully described by a **SampledDimension**, the channel dimension is described by a **SetDimension** which contains the channel names."
   ]
  },
  {
   "cell_type": "code",
   "execution_count": null,
   "metadata": {},
   "outputs": [],
   "source": [
    "def create_data(duration=10, num_channels=10, dt=0.0001):\n",
    "    samples = int(duration / dt)\n",
    "    data = np.zeros((samples, num_channels))\n",
    "    time = np.arange(samples) * dt\n",
    "    for i in range(num_channels):\n",
    "        phase = i * 2 * np.pi / num_channels\n",
    "        data[:, i] = np.sin(2 * np.pi * time + phase) + (np.random.randn(samples) * 0.1)\n",
    "\n",
    "    return data\n",
    "\n",
    "\n",
    "dt = 0.001\n",
    "duration = 10\n",
    "number_of_channels = 10\n",
    "multichannel_data = create_data(duration, number_of_channels, dt)\n",
    "\n",
    "nixfile = nixio.File.open(\"multichannel_data.nix\", nixio.FileMode.Overwrite)\n",
    "block = nixfile.create_block(\"Session 1\", \"nix.recording_session\")\n",
    "\n",
    "data_array = block.create_data_array(\"multichannel_data\", \"nix.sampled.multichannel\", data=multichannel_data, label=\"voltage\", unit=\"mV\")\n",
    "data_array.append_sampled_dimension(0.001, label=\"time\", unit=\"s\")\n",
    "data_array.append_set_dimension(labels=[\"channel %i\" % i for i in range(number_of_channels)])\n",
    "\n",
    "nixfile.close()"
   ]
  },
  {
   "cell_type": "markdown",
   "metadata": {},
   "source": [
    "## It's time for a short break and some exercises.\n",
    "\n",
    "In the folder \"day_1\" of the repository https://gin.g-node.org/INCF-workshop-2021/NIX-Neo-workshop you will find a Jupyter notebook \"hands_on_1.ipynb\".\n",
    "\n",
    "Again, start it either\n",
    "\n",
    "- locally if you can use Python and make sure all dependencies are installed.\n",
    "- or use Binder if you cannot use Python locally. The repository is already set up for the use with Binder.\n"
   ]
  }
 ],
 "metadata": {
  "interpreter": {
   "hash": "aee8b7b246df8f9039afb4144a1f6fd8d2ca17a180786b69acc140d282b71a49"
  },
  "kernelspec": {
   "display_name": "Python 3",
   "language": "python",
   "name": "python3"
  },
  "language_info": {
   "codemirror_mode": {
    "name": "ipython",
    "version": 3
   },
   "file_extension": ".py",
   "mimetype": "text/x-python",
   "name": "python",
   "nbconvert_exporter": "python",
   "pygments_lexer": "ipython3",
   "version": "3.9.5"
  }
 },
 "nbformat": 4,
 "nbformat_minor": 2
}
